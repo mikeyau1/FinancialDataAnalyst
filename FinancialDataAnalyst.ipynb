{
 "cells": [
  {
   "cell_type": "code",
   "execution_count": null,
   "metadata": {},
   "outputs": [],
   "source": [
    "#Import package\n",
    "import numpy as np\n",
    "import pandas as pd\n",
    "import requests\n",
    "import time\n",
    "import sqlite3"
   ]
  },
  {
   "cell_type": "markdown",
   "metadata": {},
   "source": [
    "# Some useful function"
   ]
  },
  {
   "cell_type": "code",
   "execution_count": null,
   "metadata": {},
   "outputs": [],
   "source": [
    "#Get Alpha Vantage api key\n",
    "def get_apikey(filename: str):\n",
    "    with open(filename) as f:\n",
    "        api_key = f.read().strip()\n",
    "    f.close\n",
    "    return api_key"
   ]
  },
  {
   "cell_type": "code",
   "execution_count": null,
   "metadata": {},
   "outputs": [],
   "source": [
    "#Get daily core stock data from Alpha Vantage from 2000-01 to now\n",
    "def getDailyStockdata(ticker: str, outputsize = 'compact', datatype = 'json'):\n",
    "    function = 'TIME_SERIES_DAILY'\n",
    "    datatype = datatype\n",
    "    outputsize = outputsize\n",
    "    alpha_vantage_apikey = get_apikey(filename= 'dist/apikey_AlphaVantage')\n",
    "\n",
    "    url = f'https://www.alphavantage.co/query?function={function}&symbol={ticker}&outputsize={outputsize}&apikey={alpha_vantage_apikey}&datatype={datatype}'\n",
    "    r = requests.get(url)\n",
    "    df = pd.DataFrame.from_dict(r.json()['Time Series (Daily)'],orient='index')\n",
    "    df.columns = ['Open', 'High', 'Low', 'Close', 'Volume']\n",
    "    df = df.rename_axis('Date').reset_index()\n",
    "    df.insert(loc = 0, column = 'Ticker', value = ticker, allow_duplicates=True)\n",
    "    return df"
   ]
  },
  {
   "cell_type": "code",
   "execution_count": null,
   "metadata": {},
   "outputs": [],
   "source": [
    "def getCompanyOverview(ticker: str):\n",
    "    #Delay api call\n",
    "    time.sleep(15)\n",
    "    function = 'OVERVIEW'\n",
    "    alpha_vantage_apikey = get_apikey(filename= 'dist/apikey_AlphaVantage')\n",
    "\n",
    "    url = f'https://www.alphavantage.co/query?function={function}&symbol={ticker}&apikey={alpha_vantage_apikey}'\n",
    "    r = requests.get(url)\n",
    "    return r.json()"
   ]
  },
  {
   "cell_type": "code",
   "execution_count": null,
   "metadata": {},
   "outputs": [],
   "source": [
    "def connectToDatabase():\n",
    "    conn = sqlite3.connect('StockData.db')\n",
    "    cursor = conn.cursor()\n",
    "    \n",
    "    print('SQLite3 is connected')\n",
    "    return conn, cursor"
   ]
  },
  {
   "cell_type": "code",
   "execution_count": null,
   "metadata": {},
   "outputs": [],
   "source": [
    "def isInDatabase(ticker: str, table: str, connection: sqlite3.Connection, cursor: sqlite3.Cursor):\n",
    "    sql = f'''\n",
    "    SELECT *\n",
    "    FROM {table}\n",
    "    WHERE Ticker = '{ticker}';\n",
    "    '''\n",
    "    connection.execute(sql)\n",
    "    if len(cursor.fetchall()) < 1: \n",
    "        print(f'{ticker} is in the Database')\n",
    "        return False\n",
    "    else: \n",
    "        print(f'{ticker} is not in the Database')\n",
    "        return True"
   ]
  },
  {
   "cell_type": "code",
   "execution_count": null,
   "metadata": {},
   "outputs": [],
   "source": [
    "def pd2sql(table: str, df: pd.DataFrame, connection: sqlite3.Connection, append=False):\n",
    "    if not append:\n",
    "        df.to_sql(table, con = connection, if_exists='replace', index = False)\n",
    "    else: df.to_sql(table, con = connection, if_exists='append', index = False)\n",
    "    return print('Pandas to SQL finished')"
   ]
  },
  {
   "cell_type": "markdown",
   "metadata": {},
   "source": [
    "# Main"
   ]
  },
  {
   "cell_type": "code",
   "execution_count": null,
   "metadata": {},
   "outputs": [],
   "source": [
    "#Create a connection of SQLite3\n",
    "conn,cursor = connectToDatabase()"
   ]
  },
  {
   "cell_type": "code",
   "execution_count": null,
   "metadata": {},
   "outputs": [],
   "source": [
    "#Store the S&P information in pandas dataframe\n",
    "wiki_url = \"https://en.wikipedia.org/wiki/List_of_S%26P_500_companies#Selected_changes_to_the_list_of_S&P_500_components\"\n",
    "tickers_df_list = pd.read_html(wiki_url)\n",
    "tickers_df = tickers_df_list[0]\n",
    "industry_dimension = tickers_df.loc[:, ['Symbol','GICS Sector','GICS Sub-Industry']]\n",
    "industry_dimension = industry_dimension.rename(columns={'Symbol': 'Ticker'})"
   ]
  },
  {
   "cell_type": "code",
   "execution_count": null,
   "metadata": {},
   "outputs": [],
   "source": [
    "#Store the industry_dimension to the SQLite3\n",
    "pd2sql('IndustryDimension',industry_dimension,conn)"
   ]
  },
  {
   "cell_type": "code",
   "execution_count": null,
   "metadata": {},
   "outputs": [],
   "source": [
    "#Turn pandas dataframe to the list\n",
    "tickers = tickers_df['Symbol'].values.tolist()\n",
    "len(tickers)"
   ]
  },
  {
   "cell_type": "code",
   "execution_count": null,
   "metadata": {},
   "outputs": [],
   "source": [
    "#Define the columns and table name in SQLite3\n",
    "table = 'StockPrice'\n",
    "stock_df = pd.DataFrame(columns=['Ticker','Date','Open', 'High', 'Low', 'Close', 'Volume'])"
   ]
  },
  {
   "cell_type": "code",
   "execution_count": null,
   "metadata": {},
   "outputs": [],
   "source": [
    "#Download the financial data from Alpha vantage\n",
    "for ticker in tickers:\n",
    "    if not isInDatabase(ticker, table, conn, cursor):\n",
    "        try: stock_df = pd.concat([stock_df, getDailyStockdata(ticker,outputsize='full')], ignore_index = True)\n",
    "        except:\n",
    "            print(f'Next ticker: {ticker}') \n",
    "            continue"
   ]
  },
  {
   "cell_type": "code",
   "execution_count": null,
   "metadata": {},
   "outputs": [],
   "source": [
    "#Define the columns\n",
    "temp_json = getCompanyOverview('IBM')\n",
    "columns = [key for key in temp_json.keys()]\n",
    "\n",
    "#Change the first column form Symbol to Ticker\n",
    "columns[0] = 'Ticker'"
   ]
  },
  {
   "cell_type": "code",
   "execution_count": 1,
   "metadata": {},
   "outputs": [],
   "source": [
    "#Create a new dict to store the stock overview data\n",
    "StockOverview_dict = {}\n",
    "for column in columns:\n",
    "    StockOverview_dict[column] = []\n",
    "\n",
    "#Download the company overview from Alpha vantage\n",
    "#Append the value from api result\n",
    "table = 'StockOverview'\n",
    "\n",
    "# for ticker in tickers:\n",
    "    if not isInDatabase(ticker, table, conn, cursor):\n",
    "        try: r = getCompanyOverview(ticker)\n",
    "        except: continue\n",
    "        for key, value in r.items():\n",
    "            try: StockOverview_dict[key].append(value)\n",
    "            except: break"
   ]
  }
 ],
 "metadata": {
  "kernelspec": {
   "display_name": "Python 3",
   "language": "python",
   "name": "python3"
  },
  "language_info": {
   "codemirror_mode": {
    "name": "ipython",
    "version": 3
   },
   "file_extension": ".py",
   "mimetype": "text/x-python",
   "name": "python",
   "nbconvert_exporter": "python",
   "pygments_lexer": "ipython3",
   "version": "3.11.0"
  },
  "orig_nbformat": 4
 },
 "nbformat": 4,
 "nbformat_minor": 2
}
