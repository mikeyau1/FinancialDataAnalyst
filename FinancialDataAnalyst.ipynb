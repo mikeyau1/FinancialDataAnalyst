{
  "cells": [
    {
      "attachments": {},
      "cell_type": "markdown",
      "metadata": {},
      "source": [
        "# Import package"
      ]
    },
    {
      "cell_type": "code",
      "execution_count": 38,
      "metadata": {},
      "outputs": [
        {
          "name": "stdout",
          "output_type": "stream",
          "text": [
            "Requirement already satisfied: tqdm in c:\\python311\\lib\\site-packages (4.65.0)\n",
            "Requirement already satisfied: colorama in c:\\users\\user\\appdata\\roaming\\python\\python311\\site-packages (from tqdm) (0.4.6)\n"
          ]
        },
        {
          "name": "stderr",
          "output_type": "stream",
          "text": [
            "\n",
            "[notice] A new release of pip is available: 23.0.1 -> 23.2.1\n",
            "[notice] To update, run: python.exe -m pip install --upgrade pip\n"
          ]
        }
      ],
      "source": [
        "#Install module\n",
        "!pip install tqdm"
      ]
    },
    {
      "cell_type": "code",
      "execution_count": 39,
      "metadata": {
        "id": "92_nygmWxxnq"
      },
      "outputs": [],
      "source": [
        "#Import package\n",
        "import os\n",
        "import numpy as np\n",
        "import pandas as pd\n",
        "from datetime import datetime\n",
        "from pandas_datareader import data as web\n",
        "import requests\n",
        "from tqdm import tqdm\n",
        "\n",
        "# import yfinance as yf\n",
        "# import lxml\n",
        "# from bs4 import BeautifulSoup #BeutifulSoup"
      ]
    },
    {
      "cell_type": "markdown",
      "metadata": {},
      "source": [
        "# Some useful functions"
      ]
    },
    {
      "cell_type": "code",
      "execution_count": 40,
      "metadata": {},
      "outputs": [],
      "source": [
        "#Get Alpha Vantage api key\n",
        "def get_apikey(filename: str):\n",
        "    with open(filename) as f:\n",
        "        api_key = f.read().strip()\n",
        "    f.close\n",
        "    return api_key"
      ]
    },
    {
      "cell_type": "code",
      "execution_count": 50,
      "metadata": {},
      "outputs": [],
      "source": [
        "#Get daily core stock data from Alpha Vantage from 2000-01 to now\n",
        "def get_daily_stockdata(symbol:str, outputsize = 'compact', datatype = 'json'):\n",
        "    function = 'TIME_SERIES_DAILY'\n",
        "    datatype = datatype\n",
        "    outputsize = outputsize\n",
        "    ticker = symbol\n",
        "    alpha_vantage_apikey = get_apikey(filename= 'dist/apikey_AlphaVantage')\n",
        "\n",
        "    url = f'https://www.alphavantage.co/query?function={function}&symbol={ticker}&outputsize={outputsize}&apikey={alpha_vantage_apikey}&datatype={datatype}'\n",
        "    r = requests.get(url)\n",
        "    df = pd.DataFrame.from_dict(r.json()['Time Series (Daily)'],orient='index')\n",
        "    df.columns = ['Open', 'High', 'Low', 'Close', 'Volume']\n",
        "    return df"
      ]
    },
    {
      "attachments": {},
      "cell_type": "markdown",
      "metadata": {
        "id": "wRWPtJy05l2M"
      },
      "source": [
        "# Data Preparation"
      ]
    },
    {
      "attachments": {},
      "cell_type": "markdown",
      "metadata": {
        "id": "C-6Mrex15tjU"
      },
      "source": [
        "## Web Scrapping"
      ]
    },
    {
      "attachments": {},
      "cell_type": "markdown",
      "metadata": {
        "id": "AUxGrl1m5xhC"
      },
      "source": [
        "This section will perform web scrapping to scrap all S&P500 tickers on wikipedia. https://en.wikipedia.org/wiki/List_of_S%26P_500_companies\n",
        "\n",
        "We can simply use padnas to get the table from wiki."
      ]
    },
    {
      "cell_type": "code",
      "execution_count": 42,
      "metadata": {
        "colab": {
          "base_uri": "https://localhost:8080/",
          "height": 206
        },
        "id": "2666gJtt7jee",
        "outputId": "f0c08765-530a-48f8-b89d-1eff80a2bf4e"
      },
      "outputs": [
        {
          "data": {
            "text/html": [
              "<div>\n",
              "<style scoped>\n",
              "    .dataframe tbody tr th:only-of-type {\n",
              "        vertical-align: middle;\n",
              "    }\n",
              "\n",
              "    .dataframe tbody tr th {\n",
              "        vertical-align: top;\n",
              "    }\n",
              "\n",
              "    .dataframe thead th {\n",
              "        text-align: right;\n",
              "    }\n",
              "</style>\n",
              "<table border=\"1\" class=\"dataframe\">\n",
              "  <thead>\n",
              "    <tr style=\"text-align: right;\">\n",
              "      <th></th>\n",
              "      <th>Symbol</th>\n",
              "      <th>Security</th>\n",
              "      <th>GICS Sector</th>\n",
              "      <th>GICS Sub-Industry</th>\n",
              "      <th>Headquarters Location</th>\n",
              "      <th>Date added</th>\n",
              "      <th>CIK</th>\n",
              "      <th>Founded</th>\n",
              "    </tr>\n",
              "  </thead>\n",
              "  <tbody>\n",
              "    <tr>\n",
              "      <th>0</th>\n",
              "      <td>MMM</td>\n",
              "      <td>3M</td>\n",
              "      <td>Industrials</td>\n",
              "      <td>Industrial Conglomerates</td>\n",
              "      <td>Saint Paul, Minnesota</td>\n",
              "      <td>1957-03-04</td>\n",
              "      <td>66740</td>\n",
              "      <td>1902</td>\n",
              "    </tr>\n",
              "    <tr>\n",
              "      <th>1</th>\n",
              "      <td>AOS</td>\n",
              "      <td>A. O. Smith</td>\n",
              "      <td>Industrials</td>\n",
              "      <td>Building Products</td>\n",
              "      <td>Milwaukee, Wisconsin</td>\n",
              "      <td>2017-07-26</td>\n",
              "      <td>91142</td>\n",
              "      <td>1916</td>\n",
              "    </tr>\n",
              "    <tr>\n",
              "      <th>2</th>\n",
              "      <td>ABT</td>\n",
              "      <td>Abbott</td>\n",
              "      <td>Health Care</td>\n",
              "      <td>Health Care Equipment</td>\n",
              "      <td>North Chicago, Illinois</td>\n",
              "      <td>1957-03-04</td>\n",
              "      <td>1800</td>\n",
              "      <td>1888</td>\n",
              "    </tr>\n",
              "    <tr>\n",
              "      <th>3</th>\n",
              "      <td>ABBV</td>\n",
              "      <td>AbbVie</td>\n",
              "      <td>Health Care</td>\n",
              "      <td>Pharmaceuticals</td>\n",
              "      <td>North Chicago, Illinois</td>\n",
              "      <td>2012-12-31</td>\n",
              "      <td>1551152</td>\n",
              "      <td>2013 (1888)</td>\n",
              "    </tr>\n",
              "    <tr>\n",
              "      <th>4</th>\n",
              "      <td>ACN</td>\n",
              "      <td>Accenture</td>\n",
              "      <td>Information Technology</td>\n",
              "      <td>IT Consulting &amp; Other Services</td>\n",
              "      <td>Dublin, Ireland</td>\n",
              "      <td>2011-07-06</td>\n",
              "      <td>1467373</td>\n",
              "      <td>1989</td>\n",
              "    </tr>\n",
              "  </tbody>\n",
              "</table>\n",
              "</div>"
            ],
            "text/plain": [
              "  Symbol     Security             GICS Sector               GICS Sub-Industry  \\\n",
              "0    MMM           3M             Industrials        Industrial Conglomerates   \n",
              "1    AOS  A. O. Smith             Industrials               Building Products   \n",
              "2    ABT       Abbott             Health Care           Health Care Equipment   \n",
              "3   ABBV       AbbVie             Health Care                 Pharmaceuticals   \n",
              "4    ACN    Accenture  Information Technology  IT Consulting & Other Services   \n",
              "\n",
              "     Headquarters Location  Date added      CIK      Founded  \n",
              "0    Saint Paul, Minnesota  1957-03-04    66740         1902  \n",
              "1     Milwaukee, Wisconsin  2017-07-26    91142         1916  \n",
              "2  North Chicago, Illinois  1957-03-04     1800         1888  \n",
              "3  North Chicago, Illinois  2012-12-31  1551152  2013 (1888)  \n",
              "4          Dublin, Ireland  2011-07-06  1467373         1989  "
            ]
          },
          "execution_count": 42,
          "metadata": {},
          "output_type": "execute_result"
        }
      ],
      "source": [
        "#Store the S&P information in pandas dataframe\n",
        "wiki_url = \"https://en.wikipedia.org/wiki/List_of_S%26P_500_companies#Selected_changes_to_the_list_of_S&P_500_components\"\n",
        "tickers_df_list = pd.read_html(wiki_url)\n",
        "tickers_df = tickers_df_list[0]\n",
        "tickers_df.head()"
      ]
    },
    {
      "cell_type": "code",
      "execution_count": 43,
      "metadata": {
        "colab": {
          "base_uri": "https://localhost:8080/"
        },
        "id": "XN_wEqXR3fyR",
        "outputId": "878e2a74-1e2b-4763-8eda-e98dddcf482f"
      },
      "outputs": [
        {
          "name": "stdout",
          "output_type": "stream",
          "text": [
            "503\n"
          ]
        }
      ],
      "source": [
        "#Turn pandas dataframe to the list\n",
        "tickers = tickers_df['Symbol'].values.tolist()\n",
        "print(len(tickers))"
      ]
    },
    {
      "attachments": {},
      "cell_type": "markdown",
      "metadata": {
        "id": "A_knpKMqKRzk"
      },
      "source": [
        "## Download the financial data"
      ]
    },
    {
      "cell_type": "code",
      "execution_count": 51,
      "metadata": {
        "colab": {
          "base_uri": "https://localhost:8080/",
          "height": 235
        },
        "id": "hGrNSGXc3YmK",
        "outputId": "df6186bf-e603-4771-c181-a257b7b1d722"
      },
      "outputs": [
        {
          "name": "stdout",
          "output_type": "stream",
          "text": [
            "                Open      High       Low     Close    Volume\n",
            "2023-07-28  194.6700  196.6260  194.1400  195.8300  48291443\n",
            "2023-07-27  196.0200  197.2000  192.5500  193.2200  47460180\n",
            "2023-07-26  193.6700  195.6400  193.3200  194.5000  47471868\n",
            "2023-07-25  193.3300  194.4400  192.9150  193.6200  37283201\n",
            "2023-07-24  193.4100  194.9100  192.2500  192.7500  45505097\n",
            "...              ...       ...       ...       ...       ...\n",
            "1999-11-05   84.6200   88.3700   84.0000   88.3100   3721500\n",
            "1999-11-04   82.0600   85.3700   80.6200   83.6200   3384700\n",
            "1999-11-03   81.6200   83.2500   81.0000   81.5000   2932700\n",
            "1999-11-02   78.0000   81.6900   77.3100   80.2500   3564600\n",
            "1999-11-01   80.0000   80.6900   77.3700   77.6200   2487300\n",
            "\n",
            "[5973 rows x 5 columns]\n"
          ]
        }
      ],
      "source": [
        "#Download the financial data from Alpha vantage\n",
        "ticker = 'AAPL'\n",
        "AAPL = get_daily_stockdata(ticker,outputsize='full')\n",
        "print(AAPL)"
      ]
    }
  ],
  "metadata": {
    "colab": {
      "authorship_tag": "ABX9TyNPTDvdNJrMG8qGV/WXMng9",
      "provenance": [],
      "toc_visible": true
    },
    "kernelspec": {
      "display_name": "Python 3",
      "name": "python3"
    },
    "language_info": {
      "codemirror_mode": {
        "name": "ipython",
        "version": 3
      },
      "file_extension": ".py",
      "mimetype": "text/x-python",
      "name": "python",
      "nbconvert_exporter": "python",
      "pygments_lexer": "ipython3",
      "version": "3.11.0"
    }
  },
  "nbformat": 4,
  "nbformat_minor": 0
}
