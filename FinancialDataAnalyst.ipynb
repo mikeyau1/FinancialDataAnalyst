{
  "cells": [
    {
      "attachments": {},
      "cell_type": "markdown",
      "metadata": {},
      "source": [
        "# Import package"
      ]
    },
    {
      "cell_type": "code",
      "execution_count": 16,
      "metadata": {},
      "outputs": [
        {
          "name": "stdout",
          "output_type": "stream",
          "text": [
            "Requirement already satisfied: SQLAlchemy in c:\\users\\user\\appdata\\roaming\\python\\python311\\site-packages (2.0.19)Note: you may need to restart the kernel to use updated packages.\n",
            "\n",
            "Requirement already satisfied: typing-extensions>=4.2.0 in c:\\users\\user\\appdata\\roaming\\python\\python311\\site-packages (from SQLAlchemy) (4.7.1)\n",
            "Requirement already satisfied: greenlet!=0.4.17 in c:\\users\\user\\appdata\\roaming\\python\\python311\\site-packages (from SQLAlchemy) (2.0.2)\n"
          ]
        }
      ],
      "source": [
        "#Install module\n",
        "# %pip install --user --upgrade pandas\n",
        "%pip install --user SQLAlchemy"
      ]
    },
    {
      "cell_type": "code",
      "execution_count": 17,
      "metadata": {
        "id": "92_nygmWxxnq"
      },
      "outputs": [],
      "source": [
        "#Import package\n",
        "import numpy as np\n",
        "import pandas as pd\n",
        "from pandas_datareader import data as web\n",
        "import requests\n",
        "from sqlalchemy import BigInteger, Numeric, Date, Text, String\n",
        "\n",
        "# import os\n",
        "# from tqdm import tqdm\n",
        "# from datetime import datetime\n",
        "# import yfinance as yf\n",
        "# import lxml\n",
        "# from bs4 import BeautifulSoup #BeutifulSoup"
      ]
    },
    {
      "attachments": {},
      "cell_type": "markdown",
      "metadata": {
        "id": "wRWPtJy05l2M"
      },
      "source": [
        "# Data Preparation"
      ]
    },
    {
      "cell_type": "markdown",
      "metadata": {},
      "source": [
        "# Some useful functions"
      ]
    },
    {
      "cell_type": "code",
      "execution_count": 2,
      "metadata": {},
      "outputs": [],
      "source": [
        "#Get Alpha Vantage api key\n",
        "def get_apikey(filename: str):\n",
        "    with open(filename) as f:\n",
        "        api_key = f.read().strip()\n",
        "    f.close\n",
        "    return api_key"
      ]
    },
    {
      "cell_type": "code",
      "execution_count": 3,
      "metadata": {},
      "outputs": [],
      "source": [
        "#Get daily core stock data from Alpha Vantage from 2000-01 to now\n",
        "def get_daily_stockdata(ticker:str, outputsize = 'compact', datatype = 'json'):\n",
        "    function = 'TIME_SERIES_DAILY'\n",
        "    datatype = datatype\n",
        "    outputsize = outputsize\n",
        "    alpha_vantage_apikey = get_apikey(filename= 'dist/apikey_AlphaVantage')\n",
        "\n",
        "    url = f'https://www.alphavantage.co/query?function={function}&symbol={ticker}&outputsize={outputsize}&apikey={alpha_vantage_apikey}&datatype={datatype}'\n",
        "    r = requests.get(url)\n",
        "    df = pd.DataFrame.from_dict(r.json()['Time Series (Daily)'],orient='index')\n",
        "    df.columns = ['Open', 'High', 'Low', 'Close', 'Volume']\n",
        "    df = df.rename_axis('Date').reset_index()\n",
        "    df.insert(loc = 0, column = 'Ticker', value = ticker, allow_duplicates=True)\n",
        "    return df"
      ]
    },
    {
      "cell_type": "code",
      "execution_count": 4,
      "metadata": {},
      "outputs": [],
      "source": [
        "def get_company_overview(ticker:str):\n",
        "    function = 'OVERVIEW'\n",
        "    alpha_vantage_apikey = get_apikey(filename= 'dist/apikey_AlphaVantage')\n",
        "\n",
        "    url = f'https://www.alphavantage.co/query?function={function}&symbol={ticker}&apikey={alpha_vantage_apikey}'\n",
        "    r = requests.get(url)\n",
        "    df = pd.DataFrame.from_dict(r.json(),orient='index')\n",
        "    return r.json()"
      ]
    },
    {
      "attachments": {},
      "cell_type": "markdown",
      "metadata": {
        "id": "C-6Mrex15tjU"
      },
      "source": [
        "## Web Scrapping"
      ]
    },
    {
      "attachments": {},
      "cell_type": "markdown",
      "metadata": {
        "id": "AUxGrl1m5xhC"
      },
      "source": [
        "This section will perform web scrapping to scrap all S&P500 tickers on wikipedia. https://en.wikipedia.org/wiki/List_of_S%26P_500_companies\n",
        "\n",
        "We can simply use padnas to get the table from wiki."
      ]
    },
    {
      "cell_type": "code",
      "execution_count": 10,
      "metadata": {
        "colab": {
          "base_uri": "https://localhost:8080/",
          "height": 206
        },
        "id": "2666gJtt7jee",
        "outputId": "f0c08765-530a-48f8-b89d-1eff80a2bf4e"
      },
      "outputs": [
        {
          "data": {
            "text/html": [
              "<div>\n",
              "<style scoped>\n",
              "    .dataframe tbody tr th:only-of-type {\n",
              "        vertical-align: middle;\n",
              "    }\n",
              "\n",
              "    .dataframe tbody tr th {\n",
              "        vertical-align: top;\n",
              "    }\n",
              "\n",
              "    .dataframe thead th {\n",
              "        text-align: right;\n",
              "    }\n",
              "</style>\n",
              "<table border=\"1\" class=\"dataframe\">\n",
              "  <thead>\n",
              "    <tr style=\"text-align: right;\">\n",
              "      <th></th>\n",
              "      <th>Symbol</th>\n",
              "      <th>Security</th>\n",
              "      <th>GICS Sector</th>\n",
              "      <th>GICS Sub-Industry</th>\n",
              "      <th>Headquarters Location</th>\n",
              "      <th>Date added</th>\n",
              "      <th>CIK</th>\n",
              "      <th>Founded</th>\n",
              "    </tr>\n",
              "  </thead>\n",
              "  <tbody>\n",
              "    <tr>\n",
              "      <th>0</th>\n",
              "      <td>MMM</td>\n",
              "      <td>3M</td>\n",
              "      <td>Industrials</td>\n",
              "      <td>Industrial Conglomerates</td>\n",
              "      <td>Saint Paul, Minnesota</td>\n",
              "      <td>1957-03-04</td>\n",
              "      <td>66740</td>\n",
              "      <td>1902</td>\n",
              "    </tr>\n",
              "    <tr>\n",
              "      <th>1</th>\n",
              "      <td>AOS</td>\n",
              "      <td>A. O. Smith</td>\n",
              "      <td>Industrials</td>\n",
              "      <td>Building Products</td>\n",
              "      <td>Milwaukee, Wisconsin</td>\n",
              "      <td>2017-07-26</td>\n",
              "      <td>91142</td>\n",
              "      <td>1916</td>\n",
              "    </tr>\n",
              "    <tr>\n",
              "      <th>2</th>\n",
              "      <td>ABT</td>\n",
              "      <td>Abbott</td>\n",
              "      <td>Health Care</td>\n",
              "      <td>Health Care Equipment</td>\n",
              "      <td>North Chicago, Illinois</td>\n",
              "      <td>1957-03-04</td>\n",
              "      <td>1800</td>\n",
              "      <td>1888</td>\n",
              "    </tr>\n",
              "    <tr>\n",
              "      <th>3</th>\n",
              "      <td>ABBV</td>\n",
              "      <td>AbbVie</td>\n",
              "      <td>Health Care</td>\n",
              "      <td>Pharmaceuticals</td>\n",
              "      <td>North Chicago, Illinois</td>\n",
              "      <td>2012-12-31</td>\n",
              "      <td>1551152</td>\n",
              "      <td>2013 (1888)</td>\n",
              "    </tr>\n",
              "    <tr>\n",
              "      <th>4</th>\n",
              "      <td>ACN</td>\n",
              "      <td>Accenture</td>\n",
              "      <td>Information Technology</td>\n",
              "      <td>IT Consulting &amp; Other Services</td>\n",
              "      <td>Dublin, Ireland</td>\n",
              "      <td>2011-07-06</td>\n",
              "      <td>1467373</td>\n",
              "      <td>1989</td>\n",
              "    </tr>\n",
              "  </tbody>\n",
              "</table>\n",
              "</div>"
            ],
            "text/plain": [
              "  Symbol     Security             GICS Sector               GICS Sub-Industry  \\\n",
              "0    MMM           3M             Industrials        Industrial Conglomerates   \n",
              "1    AOS  A. O. Smith             Industrials               Building Products   \n",
              "2    ABT       Abbott             Health Care           Health Care Equipment   \n",
              "3   ABBV       AbbVie             Health Care                 Pharmaceuticals   \n",
              "4    ACN    Accenture  Information Technology  IT Consulting & Other Services   \n",
              "\n",
              "     Headquarters Location  Date added      CIK      Founded  \n",
              "0    Saint Paul, Minnesota  1957-03-04    66740         1902  \n",
              "1     Milwaukee, Wisconsin  2017-07-26    91142         1916  \n",
              "2  North Chicago, Illinois  1957-03-04     1800         1888  \n",
              "3  North Chicago, Illinois  2012-12-31  1551152  2013 (1888)  \n",
              "4          Dublin, Ireland  2011-07-06  1467373         1989  "
            ]
          },
          "execution_count": 10,
          "metadata": {},
          "output_type": "execute_result"
        }
      ],
      "source": [
        "#Store the S&P information in pandas dataframe\n",
        "wiki_url = \"https://en.wikipedia.org/wiki/List_of_S%26P_500_companies#Selected_changes_to_the_list_of_S&P_500_components\"\n",
        "tickers_df_list = pd.read_html(wiki_url)\n",
        "tickers_df = tickers_df_list[0]\n",
        "tickers_df.head()"
      ]
    },
    {
      "cell_type": "code",
      "execution_count": 11,
      "metadata": {
        "colab": {
          "base_uri": "https://localhost:8080/"
        },
        "id": "XN_wEqXR3fyR",
        "outputId": "878e2a74-1e2b-4763-8eda-e98dddcf482f"
      },
      "outputs": [
        {
          "name": "stdout",
          "output_type": "stream",
          "text": [
            "['MMM', 'AOS', 'ABT', 'ABBV', 'ACN', 'ATVI', 'ADM', 'ADBE', 'ADP', 'AAP', 'AES', 'AFL', 'A', 'APD', 'AKAM', 'ALK', 'ALB', 'ARE', 'ALGN', 'ALLE', 'LNT', 'ALL', 'GOOGL', 'GOOG', 'MO', 'AMZN', 'AMCR', 'AMD', 'AEE', 'AAL', 'AEP', 'AXP', 'AIG', 'AMT', 'AWK', 'AMP', 'ABC', 'AME', 'AMGN', 'APH', 'ADI', 'ANSS', 'AON', 'APA', 'AAPL', 'AMAT', 'APTV', 'ACGL', 'ANET', 'AJG', 'AIZ', 'T', 'ATO', 'ADSK', 'AZO', 'AVB', 'AVY', 'AXON', 'BKR', 'BALL', 'BAC', 'BBWI', 'BAX', 'BDX', 'WRB', 'BRK.B', 'BBY', 'BIO', 'TECH', 'BIIB', 'BLK', 'BK', 'BA', 'BKNG', 'BWA', 'BXP', 'BSX', 'BMY', 'AVGO', 'BR', 'BRO', 'BF.B', 'BG', 'CHRW', 'CDNS', 'CZR', 'CPT', 'CPB', 'COF', 'CAH', 'KMX', 'CCL', 'CARR', 'CTLT', 'CAT', 'CBOE', 'CBRE', 'CDW', 'CE', 'CNC', 'CNP', 'CDAY', 'CF', 'CRL', 'SCHW', 'CHTR', 'CVX', 'CMG', 'CB', 'CHD', 'CI', 'CINF', 'CTAS', 'CSCO', 'C', 'CFG', 'CLX', 'CME', 'CMS', 'KO', 'CTSH', 'CL', 'CMCSA', 'CMA', 'CAG', 'COP', 'ED', 'STZ', 'CEG', 'COO', 'CPRT', 'GLW', 'CTVA', 'CSGP', 'COST', 'CTRA', 'CCI', 'CSX', 'CMI', 'CVS', 'DHI', 'DHR', 'DRI', 'DVA', 'DE', 'DAL', 'XRAY', 'DVN', 'DXCM', 'FANG', 'DLR', 'DFS', 'DIS', 'DG', 'DLTR', 'D', 'DPZ', 'DOV', 'DOW', 'DTE', 'DUK', 'DD', 'DXC', 'EMN', 'ETN', 'EBAY', 'ECL', 'EIX', 'EW', 'EA', 'ELV', 'LLY', 'EMR', 'ENPH', 'ETR', 'EOG', 'EPAM', 'EQT', 'EFX', 'EQIX', 'EQR', 'ESS', 'EL', 'ETSY', 'EG', 'EVRG', 'ES', 'EXC', 'EXPE', 'EXPD', 'EXR', 'XOM', 'FFIV', 'FDS', 'FICO', 'FAST', 'FRT', 'FDX', 'FITB', 'FSLR', 'FE', 'FIS', 'FI', 'FLT', 'FMC', 'F', 'FTNT', 'FTV', 'FOXA', 'FOX', 'BEN', 'FCX', 'GRMN', 'IT', 'GEHC', 'GEN', 'GNRC', 'GD', 'GE', 'GIS', 'GM', 'GPC', 'GILD', 'GL', 'GPN', 'GS', 'HAL', 'HIG', 'HAS', 'HCA', 'PEAK', 'HSIC', 'HSY', 'HES', 'HPE', 'HLT', 'HOLX', 'HD', 'HON', 'HRL', 'HST', 'HWM', 'HPQ', 'HUM', 'HBAN', 'HII', 'IBM', 'IEX', 'IDXX', 'ITW', 'ILMN', 'INCY', 'IR', 'PODD', 'INTC', 'ICE', 'IFF', 'IP', 'IPG', 'INTU', 'ISRG', 'IVZ', 'INVH', 'IQV', 'IRM', 'JBHT', 'JKHY', 'J', 'JNJ', 'JCI', 'JPM', 'JNPR', 'K', 'KDP', 'KEY', 'KEYS', 'KMB', 'KIM', 'KMI', 'KLAC', 'KHC', 'KR', 'LHX', 'LH', 'LRCX', 'LW', 'LVS', 'LDOS', 'LEN', 'LNC', 'LIN', 'LYV', 'LKQ', 'LMT', 'L', 'LOW', 'LYB', 'MTB', 'MRO', 'MPC', 'MKTX', 'MAR', 'MMC', 'MLM', 'MAS', 'MA', 'MTCH', 'MKC', 'MCD', 'MCK', 'MDT', 'MRK', 'META', 'MET', 'MTD', 'MGM', 'MCHP', 'MU', 'MSFT', 'MAA', 'MRNA', 'MHK', 'MOH', 'TAP', 'MDLZ', 'MPWR', 'MNST', 'MCO', 'MS', 'MOS', 'MSI', 'MSCI', 'NDAQ', 'NTAP', 'NFLX', 'NWL', 'NEM', 'NWSA', 'NWS', 'NEE', 'NKE', 'NI', 'NDSN', 'NSC', 'NTRS', 'NOC', 'NCLH', 'NRG', 'NUE', 'NVDA', 'NVR', 'NXPI', 'ORLY', 'OXY', 'ODFL', 'OMC', 'ON', 'OKE', 'ORCL', 'OGN', 'OTIS', 'PCAR', 'PKG', 'PANW', 'PARA', 'PH', 'PAYX', 'PAYC', 'PYPL', 'PNR', 'PEP', 'PFE', 'PCG', 'PM', 'PSX', 'PNW', 'PXD', 'PNC', 'POOL', 'PPG', 'PPL', 'PFG', 'PG', 'PGR', 'PLD', 'PRU', 'PEG', 'PTC', 'PSA', 'PHM', 'QRVO', 'PWR', 'QCOM', 'DGX', 'RL', 'RJF', 'RTX', 'O', 'REG', 'REGN', 'RF', 'RSG', 'RMD', 'RVTY', 'RHI', 'ROK', 'ROL', 'ROP', 'ROST', 'RCL', 'SPGI', 'CRM', 'SBAC', 'SLB', 'STX', 'SEE', 'SRE', 'NOW', 'SHW', 'SPG', 'SWKS', 'SJM', 'SNA', 'SEDG', 'SO', 'LUV', 'SWK', 'SBUX', 'STT', 'STLD', 'STE', 'SYK', 'SYF', 'SNPS', 'SYY', 'TMUS', 'TROW', 'TTWO', 'TPR', 'TRGP', 'TGT', 'TEL', 'TDY', 'TFX', 'TER', 'TSLA', 'TXN', 'TXT', 'TMO', 'TJX', 'TSCO', 'TT', 'TDG', 'TRV', 'TRMB', 'TFC', 'TYL', 'TSN', 'USB', 'UDR', 'ULTA', 'UNP', 'UAL', 'UPS', 'URI', 'UNH', 'UHS', 'VLO', 'VTR', 'VRSN', 'VRSK', 'VZ', 'VRTX', 'VFC', 'VTRS', 'VICI', 'V', 'VMC', 'WAB', 'WBA', 'WMT', 'WBD', 'WM', 'WAT', 'WEC', 'WFC', 'WELL', 'WST', 'WDC', 'WRK', 'WY', 'WHR', 'WMB', 'WTW', 'GWW', 'WYNN', 'XEL', 'XYL', 'YUM', 'ZBRA', 'ZBH', 'ZION', 'ZTS']\n"
          ]
        }
      ],
      "source": [
        "#Turn pandas dataframe to the list\n",
        "tickers = tickers_df['Symbol'].values.tolist()\n",
        "print(tickers)"
      ]
    },
    {
      "cell_type": "code",
      "execution_count": null,
      "metadata": {},
      "outputs": [],
      "source": []
    },
    {
      "attachments": {},
      "cell_type": "markdown",
      "metadata": {
        "id": "A_knpKMqKRzk"
      },
      "source": [
        "## Download the financial data"
      ]
    },
    {
      "cell_type": "code",
      "execution_count": 12,
      "metadata": {
        "colab": {
          "base_uri": "https://localhost:8080/",
          "height": 235
        },
        "id": "hGrNSGXc3YmK",
        "outputId": "df6186bf-e603-4771-c181-a257b7b1d722"
      },
      "outputs": [],
      "source": [
        "#Download the financial data from Alpha vantage\n",
        "# tickers_test = ['AAPL','MMM','ABT', 'ABBV', 'ACN', 'ATVI', 'ADM', 'ADBE', 'ADP', 'AAP', 'AES', 'AFL']\n",
        "\n",
        "stock_df = pd.DataFrame(columns=['Ticker','Date','Open', 'High', 'Low', 'Close', 'Volume'])\n",
        "for ticker in tickers:\n",
        "    try: stock_df = pd.concat([stock_df, get_daily_stockdata(ticker,outputsize='full')], ignore_index = True)\n",
        "    except: continue"
      ]
    },
    {
      "cell_type": "code",
      "execution_count": 18,
      "metadata": {},
      "outputs": [],
      "source": [
        "#Connect SQLite\n",
        "import sqlite3\n",
        "\n",
        "conn = sqlite3.connect('StockData.db')\n",
        "stock_cursor = conn.cursor()"
      ]
    },
    {
      "cell_type": "code",
      "execution_count": 33,
      "metadata": {},
      "outputs": [],
      "source": [
        "#Store the data into SQLite3 database\n",
        "table_name = 'StockPrice'\n",
        "\n",
        "#Create a table called, StockPrice, in SQLite3\n",
        "stock_df.to_sql(table_name,conn,if_exists='replace',\n",
        "                index=True,index_label='Record')\n",
        "conn.commit()\n"
      ]
    },
    {
      "cell_type": "code",
      "execution_count": 31,
      "metadata": {},
      "outputs": [
        {
          "data": {
            "text/html": [
              "<div>\n",
              "<style scoped>\n",
              "    .dataframe tbody tr th:only-of-type {\n",
              "        vertical-align: middle;\n",
              "    }\n",
              "\n",
              "    .dataframe tbody tr th {\n",
              "        vertical-align: top;\n",
              "    }\n",
              "\n",
              "    .dataframe thead th {\n",
              "        text-align: right;\n",
              "    }\n",
              "</style>\n",
              "<table border=\"1\" class=\"dataframe\">\n",
              "  <thead>\n",
              "    <tr style=\"text-align: right;\">\n",
              "      <th></th>\n",
              "      <th>Record</th>\n",
              "      <th>Ticker</th>\n",
              "      <th>Date</th>\n",
              "      <th>Open</th>\n",
              "      <th>High</th>\n",
              "      <th>Low</th>\n",
              "      <th>Close</th>\n",
              "      <th>Volume</th>\n",
              "    </tr>\n",
              "  </thead>\n",
              "  <tbody>\n",
              "    <tr>\n",
              "      <th>0</th>\n",
              "      <td>0</td>\n",
              "      <td>MMM</td>\n",
              "      <td>2023-07-28</td>\n",
              "      <td>111.8700</td>\n",
              "      <td>112.4100</td>\n",
              "      <td>111.0450</td>\n",
              "      <td>111.8800</td>\n",
              "      <td>2910759</td>\n",
              "    </tr>\n",
              "    <tr>\n",
              "      <th>1</th>\n",
              "      <td>1</td>\n",
              "      <td>MMM</td>\n",
              "      <td>2023-07-27</td>\n",
              "      <td>110.4500</td>\n",
              "      <td>113.1400</td>\n",
              "      <td>110.4500</td>\n",
              "      <td>111.1900</td>\n",
              "      <td>5613488</td>\n",
              "    </tr>\n",
              "    <tr>\n",
              "      <th>2</th>\n",
              "      <td>2</td>\n",
              "      <td>MMM</td>\n",
              "      <td>2023-07-26</td>\n",
              "      <td>109.8400</td>\n",
              "      <td>113.0700</td>\n",
              "      <td>109.8400</td>\n",
              "      <td>112.6400</td>\n",
              "      <td>5594986</td>\n",
              "    </tr>\n",
              "    <tr>\n",
              "      <th>3</th>\n",
              "      <td>3</td>\n",
              "      <td>MMM</td>\n",
              "      <td>2023-07-25</td>\n",
              "      <td>107.5500</td>\n",
              "      <td>110.8500</td>\n",
              "      <td>107.0092</td>\n",
              "      <td>109.8300</td>\n",
              "      <td>8778880</td>\n",
              "    </tr>\n",
              "    <tr>\n",
              "      <th>4</th>\n",
              "      <td>4</td>\n",
              "      <td>MMM</td>\n",
              "      <td>2023-07-24</td>\n",
              "      <td>104.5300</td>\n",
              "      <td>105.6041</td>\n",
              "      <td>103.9800</td>\n",
              "      <td>104.2700</td>\n",
              "      <td>3333380</td>\n",
              "    </tr>\n",
              "    <tr>\n",
              "      <th>...</th>\n",
              "      <td>...</td>\n",
              "      <td>...</td>\n",
              "      <td>...</td>\n",
              "      <td>...</td>\n",
              "      <td>...</td>\n",
              "      <td>...</td>\n",
              "      <td>...</td>\n",
              "      <td>...</td>\n",
              "    </tr>\n",
              "    <tr>\n",
              "      <th>95</th>\n",
              "      <td>95</td>\n",
              "      <td>MMM</td>\n",
              "      <td>2023-03-13</td>\n",
              "      <td>103.6700</td>\n",
              "      <td>104.6800</td>\n",
              "      <td>102.7300</td>\n",
              "      <td>103.5000</td>\n",
              "      <td>4211092</td>\n",
              "    </tr>\n",
              "    <tr>\n",
              "      <th>96</th>\n",
              "      <td>96</td>\n",
              "      <td>MMM</td>\n",
              "      <td>2023-03-10</td>\n",
              "      <td>105.5400</td>\n",
              "      <td>107.0000</td>\n",
              "      <td>103.7400</td>\n",
              "      <td>104.0600</td>\n",
              "      <td>3693856</td>\n",
              "    </tr>\n",
              "    <tr>\n",
              "      <th>97</th>\n",
              "      <td>97</td>\n",
              "      <td>MMM</td>\n",
              "      <td>2023-03-09</td>\n",
              "      <td>107.6600</td>\n",
              "      <td>108.5600</td>\n",
              "      <td>105.4200</td>\n",
              "      <td>105.5200</td>\n",
              "      <td>3463725</td>\n",
              "    </tr>\n",
              "    <tr>\n",
              "      <th>98</th>\n",
              "      <td>98</td>\n",
              "      <td>MMM</td>\n",
              "      <td>2023-03-08</td>\n",
              "      <td>107.4400</td>\n",
              "      <td>107.7700</td>\n",
              "      <td>106.1800</td>\n",
              "      <td>107.1600</td>\n",
              "      <td>3434665</td>\n",
              "    </tr>\n",
              "    <tr>\n",
              "      <th>99</th>\n",
              "      <td>99</td>\n",
              "      <td>MMM</td>\n",
              "      <td>2023-03-07</td>\n",
              "      <td>110.0000</td>\n",
              "      <td>110.0100</td>\n",
              "      <td>107.0400</td>\n",
              "      <td>107.0900</td>\n",
              "      <td>3372823</td>\n",
              "    </tr>\n",
              "  </tbody>\n",
              "</table>\n",
              "<p>100 rows × 8 columns</p>\n",
              "</div>"
            ],
            "text/plain": [
              "    Record Ticker        Date      Open      High       Low     Close   Volume\n",
              "0        0    MMM  2023-07-28  111.8700  112.4100  111.0450  111.8800  2910759\n",
              "1        1    MMM  2023-07-27  110.4500  113.1400  110.4500  111.1900  5613488\n",
              "2        2    MMM  2023-07-26  109.8400  113.0700  109.8400  112.6400  5594986\n",
              "3        3    MMM  2023-07-25  107.5500  110.8500  107.0092  109.8300  8778880\n",
              "4        4    MMM  2023-07-24  104.5300  105.6041  103.9800  104.2700  3333380\n",
              "..     ...    ...         ...       ...       ...       ...       ...      ...\n",
              "95      95    MMM  2023-03-13  103.6700  104.6800  102.7300  103.5000  4211092\n",
              "96      96    MMM  2023-03-10  105.5400  107.0000  103.7400  104.0600  3693856\n",
              "97      97    MMM  2023-03-09  107.6600  108.5600  105.4200  105.5200  3463725\n",
              "98      98    MMM  2023-03-08  107.4400  107.7700  106.1800  107.1600  3434665\n",
              "99      99    MMM  2023-03-07  110.0000  110.0100  107.0400  107.0900  3372823\n",
              "\n",
              "[100 rows x 8 columns]"
            ]
          },
          "execution_count": 31,
          "metadata": {},
          "output_type": "execute_result"
        }
      ],
      "source": [
        "#Select all column and limit to show top 100\n",
        "sql = '''\n",
        "SELECT * \n",
        "FROM StockPrice\n",
        "LIMIT 100;  \n",
        "'''\n",
        "\n",
        "test = pd.read_sql(sql,conn)\n",
        "test"
      ]
    }
  ],
  "metadata": {
    "colab": {
      "authorship_tag": "ABX9TyNPTDvdNJrMG8qGV/WXMng9",
      "provenance": [],
      "toc_visible": true
    },
    "kernelspec": {
      "display_name": "Python 3",
      "name": "python3"
    },
    "language_info": {
      "codemirror_mode": {
        "name": "ipython",
        "version": 3
      },
      "file_extension": ".py",
      "mimetype": "text/x-python",
      "name": "python",
      "nbconvert_exporter": "python",
      "pygments_lexer": "ipython3",
      "version": "3.11.0"
    }
  },
  "nbformat": 4,
  "nbformat_minor": 0
}
