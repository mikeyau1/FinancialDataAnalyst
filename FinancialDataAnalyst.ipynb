{
  "cells": [
    {
      "attachments": {},
      "cell_type": "markdown",
      "metadata": {},
      "source": [
        "# Import package"
      ]
    },
    {
      "cell_type": "code",
      "execution_count": 1,
      "metadata": {},
      "outputs": [
        {
          "name": "stdout",
          "output_type": "stream",
          "text": [
            "Requirement already satisfied: SQLAlchemy in c:\\users\\user\\appdata\\roaming\\python\\python311\\site-packages (2.0.19)\n",
            "Requirement already satisfied: typing-extensions>=4.2.0 in c:\\users\\user\\appdata\\roaming\\python\\python311\\site-packages (from SQLAlchemy) (4.7.1)\n",
            "Requirement already satisfied: greenlet!=0.4.17 in c:\\users\\user\\appdata\\roaming\\python\\python311\\site-packages (from SQLAlchemy) (2.0.2)\n",
            "Note: you may need to restart the kernel to use updated packages.\n"
          ]
        }
      ],
      "source": [
        "#Install module\n",
        "# %pip install --user --upgrade pandas\n",
        "%pip install --user SQLAlchemy"
      ]
    },
    {
      "cell_type": "code",
      "execution_count": 3,
      "metadata": {
        "id": "92_nygmWxxnq"
      },
      "outputs": [],
      "source": [
        "#Import package\n",
        "import numpy as np\n",
        "import pandas as pd\n",
        "from pandas_datareader import data as web\n",
        "import requests\n",
        "from sqlalchemy import BigInteger, Numeric, Date, Text, String\n",
        "import time\n",
        "# import os\n",
        "# from tqdm import tqdm\n",
        "# from datetime import datetime\n",
        "# import yfinance as yf\n",
        "# import lxml\n",
        "# from bs4 import BeautifulSoup #BeutifulSoup"
      ]
    },
    {
      "attachments": {},
      "cell_type": "markdown",
      "metadata": {
        "id": "wRWPtJy05l2M"
      },
      "source": [
        "# Data Preparation"
      ]
    },
    {
      "cell_type": "markdown",
      "metadata": {},
      "source": [
        "# Some useful functions"
      ]
    },
    {
      "cell_type": "code",
      "execution_count": 4,
      "metadata": {},
      "outputs": [],
      "source": [
        "#Get Alpha Vantage api key\n",
        "def get_apikey(filename: str):\n",
        "    with open(filename) as f:\n",
        "        api_key = f.read().strip()\n",
        "    f.close\n",
        "    return api_key"
      ]
    },
    {
      "cell_type": "code",
      "execution_count": 5,
      "metadata": {},
      "outputs": [],
      "source": [
        "#Get daily core stock data from Alpha Vantage from 2000-01 to now\n",
        "def getDailyStockdata(ticker: str, outputsize = 'compact', datatype = 'json') -> pd.DataFrame:\n",
        "    function = 'TIME_SERIES_DAILY'\n",
        "    datatype = datatype\n",
        "    outputsize = outputsize\n",
        "    alpha_vantage_apikey = get_apikey(filename= 'dist/apikey_AlphaVantage')\n",
        "\n",
        "    url = f'https://www.alphavantage.co/query?function={function}&symbol={ticker}&outputsize={outputsize}&apikey={alpha_vantage_apikey}&datatype={datatype}'\n",
        "    r = requests.get(url)\n",
        "    df = pd.DataFrame.from_dict(r.json()['Time Series (Daily)'],orient='index')\n",
        "    df.columns = ['Open', 'High', 'Low', 'Close', 'Volume']\n",
        "    df = df.rename_axis('Date').reset_index()\n",
        "    df.insert(loc = 0, column = 'Ticker', value = ticker, allow_duplicates=True)\n",
        "    return df"
      ]
    },
    {
      "cell_type": "code",
      "execution_count": 6,
      "metadata": {},
      "outputs": [],
      "source": [
        "def getCompanyOverview(ticker: str) -> dict:\n",
        "    #Delay api call\n",
        "    time.sleep(15)\n",
        "    function = 'OVERVIEW'\n",
        "    alpha_vantage_apikey = get_apikey(filename= 'dist/apikey_AlphaVantage')\n",
        "\n",
        "    url = f'https://www.alphavantage.co/query?function={function}&symbol={ticker}&apikey={alpha_vantage_apikey}'\n",
        "    r = requests.get(url)\n",
        "    return r.json()"
      ]
    },
    {
      "cell_type": "code",
      "execution_count": 11,
      "metadata": {},
      "outputs": [],
      "source": [
        "def connectToDatabase():\n",
        "    import sqlite3\n",
        "    conn = sqlite3.connect('StockData.db')\n",
        "    cursor = conn.cursor()\n",
        "    \n",
        "    return conn, cursor"
      ]
    },
    {
      "cell_type": "code",
      "execution_count": 15,
      "metadata": {},
      "outputs": [],
      "source": [
        "def isInDatabase(ticker: str, table: str) -> bool:\n",
        "    conn, cursor = connectToDatabase()\n",
        "    \n",
        "    sql = f'''\n",
        "    SELECT *\n",
        "    FROM {table}\n",
        "    WHERE Symbol = '{ticker}'\n",
        "    '''\n",
        "    conn.execute(sql)\n",
        "    if len(cursor.fetchall()) < 1: return False\n",
        "    else: return True\n"
      ]
    },
    {
      "attachments": {},
      "cell_type": "markdown",
      "metadata": {
        "id": "C-6Mrex15tjU"
      },
      "source": [
        "## Web Scrapping"
      ]
    },
    {
      "attachments": {},
      "cell_type": "markdown",
      "metadata": {
        "id": "AUxGrl1m5xhC"
      },
      "source": [
        "This section will perform web scrapping to scrap all S&P500 tickers on wikipedia. https://en.wikipedia.org/wiki/List_of_S%26P_500_companies\n",
        "\n",
        "We can simply use padnas to get the table from wiki."
      ]
    },
    {
      "cell_type": "code",
      "execution_count": 5,
      "metadata": {
        "colab": {
          "base_uri": "https://localhost:8080/",
          "height": 206
        },
        "id": "2666gJtt7jee",
        "outputId": "f0c08765-530a-48f8-b89d-1eff80a2bf4e"
      },
      "outputs": [],
      "source": [
        "#Store the S&P information in pandas dataframe\n",
        "wiki_url = \"https://en.wikipedia.org/wiki/List_of_S%26P_500_companies#Selected_changes_to_the_list_of_S&P_500_components\"\n",
        "tickers_df_list = pd.read_html(wiki_url)\n",
        "tickers_df = tickers_df_list[0]\n",
        "industry_dimension = tickers_df.loc[:, ['Symbol','GICS Sector','GICS Sub-Industry']]"
      ]
    },
    {
      "cell_type": "code",
      "execution_count": 6,
      "metadata": {},
      "outputs": [
        {
          "data": {
            "text/html": [
              "<div>\n",
              "<style scoped>\n",
              "    .dataframe tbody tr th:only-of-type {\n",
              "        vertical-align: middle;\n",
              "    }\n",
              "\n",
              "    .dataframe tbody tr th {\n",
              "        vertical-align: top;\n",
              "    }\n",
              "\n",
              "    .dataframe thead th {\n",
              "        text-align: right;\n",
              "    }\n",
              "</style>\n",
              "<table border=\"1\" class=\"dataframe\">\n",
              "  <thead>\n",
              "    <tr style=\"text-align: right;\">\n",
              "      <th></th>\n",
              "      <th>Symbol</th>\n",
              "      <th>GICS Sector</th>\n",
              "      <th>GICS Sub-Industry</th>\n",
              "    </tr>\n",
              "  </thead>\n",
              "  <tbody>\n",
              "    <tr>\n",
              "      <th>498</th>\n",
              "      <td>YUM</td>\n",
              "      <td>Consumer Discretionary</td>\n",
              "      <td>Restaurants</td>\n",
              "    </tr>\n",
              "    <tr>\n",
              "      <th>499</th>\n",
              "      <td>ZBRA</td>\n",
              "      <td>Information Technology</td>\n",
              "      <td>Electronic Equipment &amp; Instruments</td>\n",
              "    </tr>\n",
              "    <tr>\n",
              "      <th>500</th>\n",
              "      <td>ZBH</td>\n",
              "      <td>Health Care</td>\n",
              "      <td>Health Care Equipment</td>\n",
              "    </tr>\n",
              "    <tr>\n",
              "      <th>501</th>\n",
              "      <td>ZION</td>\n",
              "      <td>Financials</td>\n",
              "      <td>Regional Banks</td>\n",
              "    </tr>\n",
              "    <tr>\n",
              "      <th>502</th>\n",
              "      <td>ZTS</td>\n",
              "      <td>Health Care</td>\n",
              "      <td>Pharmaceuticals</td>\n",
              "    </tr>\n",
              "  </tbody>\n",
              "</table>\n",
              "</div>"
            ],
            "text/plain": [
              "    Symbol             GICS Sector                   GICS Sub-Industry\n",
              "498    YUM  Consumer Discretionary                         Restaurants\n",
              "499   ZBRA  Information Technology  Electronic Equipment & Instruments\n",
              "500    ZBH             Health Care               Health Care Equipment\n",
              "501   ZION              Financials                      Regional Banks\n",
              "502    ZTS             Health Care                     Pharmaceuticals"
            ]
          },
          "execution_count": 6,
          "metadata": {},
          "output_type": "execute_result"
        }
      ],
      "source": [
        "industry_dimension.tail()"
      ]
    },
    {
      "cell_type": "code",
      "execution_count": 7,
      "metadata": {
        "colab": {
          "base_uri": "https://localhost:8080/"
        },
        "id": "XN_wEqXR3fyR",
        "outputId": "878e2a74-1e2b-4763-8eda-e98dddcf482f"
      },
      "outputs": [
        {
          "name": "stdout",
          "output_type": "stream",
          "text": [
            "['MMM', 'AOS', 'ABT', 'ABBV', 'ACN', 'ATVI', 'ADM', 'ADBE', 'ADP', 'AAP', 'AES', 'AFL', 'A', 'APD', 'AKAM', 'ALK', 'ALB', 'ARE', 'ALGN', 'ALLE', 'LNT', 'ALL', 'GOOGL', 'GOOG', 'MO', 'AMZN', 'AMCR', 'AMD', 'AEE', 'AAL', 'AEP', 'AXP', 'AIG', 'AMT', 'AWK', 'AMP', 'ABC', 'AME', 'AMGN', 'APH', 'ADI', 'ANSS', 'AON', 'APA', 'AAPL', 'AMAT', 'APTV', 'ACGL', 'ANET', 'AJG', 'AIZ', 'T', 'ATO', 'ADSK', 'AZO', 'AVB', 'AVY', 'AXON', 'BKR', 'BALL', 'BAC', 'BBWI', 'BAX', 'BDX', 'WRB', 'BRK.B', 'BBY', 'BIO', 'TECH', 'BIIB', 'BLK', 'BK', 'BA', 'BKNG', 'BWA', 'BXP', 'BSX', 'BMY', 'AVGO', 'BR', 'BRO', 'BF.B', 'BG', 'CHRW', 'CDNS', 'CZR', 'CPT', 'CPB', 'COF', 'CAH', 'KMX', 'CCL', 'CARR', 'CTLT', 'CAT', 'CBOE', 'CBRE', 'CDW', 'CE', 'CNC', 'CNP', 'CDAY', 'CF', 'CRL', 'SCHW', 'CHTR', 'CVX', 'CMG', 'CB', 'CHD', 'CI', 'CINF', 'CTAS', 'CSCO', 'C', 'CFG', 'CLX', 'CME', 'CMS', 'KO', 'CTSH', 'CL', 'CMCSA', 'CMA', 'CAG', 'COP', 'ED', 'STZ', 'CEG', 'COO', 'CPRT', 'GLW', 'CTVA', 'CSGP', 'COST', 'CTRA', 'CCI', 'CSX', 'CMI', 'CVS', 'DHI', 'DHR', 'DRI', 'DVA', 'DE', 'DAL', 'XRAY', 'DVN', 'DXCM', 'FANG', 'DLR', 'DFS', 'DIS', 'DG', 'DLTR', 'D', 'DPZ', 'DOV', 'DOW', 'DTE', 'DUK', 'DD', 'DXC', 'EMN', 'ETN', 'EBAY', 'ECL', 'EIX', 'EW', 'EA', 'ELV', 'LLY', 'EMR', 'ENPH', 'ETR', 'EOG', 'EPAM', 'EQT', 'EFX', 'EQIX', 'EQR', 'ESS', 'EL', 'ETSY', 'EG', 'EVRG', 'ES', 'EXC', 'EXPE', 'EXPD', 'EXR', 'XOM', 'FFIV', 'FDS', 'FICO', 'FAST', 'FRT', 'FDX', 'FITB', 'FSLR', 'FE', 'FIS', 'FI', 'FLT', 'FMC', 'F', 'FTNT', 'FTV', 'FOXA', 'FOX', 'BEN', 'FCX', 'GRMN', 'IT', 'GEHC', 'GEN', 'GNRC', 'GD', 'GE', 'GIS', 'GM', 'GPC', 'GILD', 'GL', 'GPN', 'GS', 'HAL', 'HIG', 'HAS', 'HCA', 'PEAK', 'HSIC', 'HSY', 'HES', 'HPE', 'HLT', 'HOLX', 'HD', 'HON', 'HRL', 'HST', 'HWM', 'HPQ', 'HUM', 'HBAN', 'HII', 'IBM', 'IEX', 'IDXX', 'ITW', 'ILMN', 'INCY', 'IR', 'PODD', 'INTC', 'ICE', 'IFF', 'IP', 'IPG', 'INTU', 'ISRG', 'IVZ', 'INVH', 'IQV', 'IRM', 'JBHT', 'JKHY', 'J', 'JNJ', 'JCI', 'JPM', 'JNPR', 'K', 'KDP', 'KEY', 'KEYS', 'KMB', 'KIM', 'KMI', 'KLAC', 'KHC', 'KR', 'LHX', 'LH', 'LRCX', 'LW', 'LVS', 'LDOS', 'LEN', 'LNC', 'LIN', 'LYV', 'LKQ', 'LMT', 'L', 'LOW', 'LYB', 'MTB', 'MRO', 'MPC', 'MKTX', 'MAR', 'MMC', 'MLM', 'MAS', 'MA', 'MTCH', 'MKC', 'MCD', 'MCK', 'MDT', 'MRK', 'META', 'MET', 'MTD', 'MGM', 'MCHP', 'MU', 'MSFT', 'MAA', 'MRNA', 'MHK', 'MOH', 'TAP', 'MDLZ', 'MPWR', 'MNST', 'MCO', 'MS', 'MOS', 'MSI', 'MSCI', 'NDAQ', 'NTAP', 'NFLX', 'NWL', 'NEM', 'NWSA', 'NWS', 'NEE', 'NKE', 'NI', 'NDSN', 'NSC', 'NTRS', 'NOC', 'NCLH', 'NRG', 'NUE', 'NVDA', 'NVR', 'NXPI', 'ORLY', 'OXY', 'ODFL', 'OMC', 'ON', 'OKE', 'ORCL', 'OGN', 'OTIS', 'PCAR', 'PKG', 'PANW', 'PARA', 'PH', 'PAYX', 'PAYC', 'PYPL', 'PNR', 'PEP', 'PFE', 'PCG', 'PM', 'PSX', 'PNW', 'PXD', 'PNC', 'POOL', 'PPG', 'PPL', 'PFG', 'PG', 'PGR', 'PLD', 'PRU', 'PEG', 'PTC', 'PSA', 'PHM', 'QRVO', 'PWR', 'QCOM', 'DGX', 'RL', 'RJF', 'RTX', 'O', 'REG', 'REGN', 'RF', 'RSG', 'RMD', 'RVTY', 'RHI', 'ROK', 'ROL', 'ROP', 'ROST', 'RCL', 'SPGI', 'CRM', 'SBAC', 'SLB', 'STX', 'SEE', 'SRE', 'NOW', 'SHW', 'SPG', 'SWKS', 'SJM', 'SNA', 'SEDG', 'SO', 'LUV', 'SWK', 'SBUX', 'STT', 'STLD', 'STE', 'SYK', 'SYF', 'SNPS', 'SYY', 'TMUS', 'TROW', 'TTWO', 'TPR', 'TRGP', 'TGT', 'TEL', 'TDY', 'TFX', 'TER', 'TSLA', 'TXN', 'TXT', 'TMO', 'TJX', 'TSCO', 'TT', 'TDG', 'TRV', 'TRMB', 'TFC', 'TYL', 'TSN', 'USB', 'UDR', 'ULTA', 'UNP', 'UAL', 'UPS', 'URI', 'UNH', 'UHS', 'VLO', 'VTR', 'VRSN', 'VRSK', 'VZ', 'VRTX', 'VFC', 'VTRS', 'VICI', 'V', 'VMC', 'WAB', 'WBA', 'WMT', 'WBD', 'WM', 'WAT', 'WEC', 'WFC', 'WELL', 'WST', 'WDC', 'WRK', 'WY', 'WHR', 'WMB', 'WTW', 'GWW', 'WYNN', 'XEL', 'XYL', 'YUM', 'ZBRA', 'ZBH', 'ZION', 'ZTS']\n"
          ]
        }
      ],
      "source": [
        "#Turn pandas dataframe to the list\n",
        "tickers = tickers_df['Symbol'].values.tolist()\n",
        "print(tickers)"
      ]
    },
    {
      "attachments": {},
      "cell_type": "markdown",
      "metadata": {
        "id": "A_knpKMqKRzk"
      },
      "source": [
        "## Download the financial data"
      ]
    },
    {
      "cell_type": "code",
      "execution_count": null,
      "metadata": {
        "colab": {
          "base_uri": "https://localhost:8080/",
          "height": 235
        },
        "id": "hGrNSGXc3YmK",
        "outputId": "df6186bf-e603-4771-c181-a257b7b1d722"
      },
      "outputs": [],
      "source": [
        "#Download the financial data from Alpha vantage\n",
        "# tickers_test = ['AAPL','MMM','ABT', 'ABBV', 'ACN', 'ATVI', 'ADM', 'ADBE', 'ADP', 'AAP', 'AES', 'AFL']\n",
        "\n",
        "table = 'StockPrice'\n",
        "stock_df = pd.DataFrame(columns=['Ticker','Date','Open', 'High', 'Low', 'Close', 'Volume'])\n",
        "for ticker in tickers:\n",
        "    try: stock_df = pd.concat([stock_df, getDailyStockdata(ticker,outputsize='full')], ignore_index = True)\n",
        "    except: continue\n",
        "stock_df.tail()"
      ]
    },
    {
      "cell_type": "code",
      "execution_count": null,
      "metadata": {},
      "outputs": [],
      "source": [
        "#Download the company overview from Alpha vantage\n",
        "\n",
        "#Define the columns\n",
        "temp_json = getCompanyOverview('IBM')\n",
        "columns = [key for key in temp_json.keys()]\n",
        "\n",
        "#Create a new dict to store the stock overview data\n",
        "StockOverview_dict = {}\n",
        "for column in columns:\n",
        "    StockOverview_dict[column] = []\n",
        "\n",
        "#Append the value from api result\n",
        "table = 'StockOverview'\n",
        "\n",
        "for ticker in tickers:\n",
        "    if not isinDatabase(ticker,table):\n",
        "        try: r = getCompanyOverview(ticker)\n",
        "        except: continue\n",
        "        for key, value in r.items():\n",
        "            try: StockOverview_dict[key].append(value)\n",
        "            except: continue\n",
        "            \n",
        "#Convert the dict to pandas dataframe\n",
        "StockOverview_df = pd.DataFrame.from_dict(StockOverview_dict)\n",
        "StockOverview_df.tail()"
      ]
    },
    {
      "cell_type": "code",
      "execution_count": 19,
      "metadata": {},
      "outputs": [],
      "source": [
        "conn, cursor = connectToDatabase()"
      ]
    },
    {
      "cell_type": "code",
      "execution_count": null,
      "metadata": {},
      "outputs": [],
      "source": [
        "#Store the data into SQLite3 database\n",
        "StockPrice_tableName = 'StockPrice'\n",
        "StockOverview_tableName = 'StockOverview'\n",
        "\n",
        "#Create a table called, StockPrice, in SQLite3\n",
        "stock_df.to_sql(StockPrice_tableName,conn,if_exists='replace',\n",
        "                index=True,index_label='Record')\n",
        "StockOverview_df.to_sql(StockOverview_tableName,conn,if_exists='replace',\n",
        "\n",
        "                        index=True,index_label='Record')\n",
        "conn.commit()\n"
      ]
    },
    {
      "cell_type": "code",
      "execution_count": 29,
      "metadata": {},
      "outputs": [],
      "source": [
        "#Store teh stockOverview to the SQLite3\n",
        "\n",
        "StockOverview_tableName = 'StockOverview'\n",
        "StockOverview_df.to_sql(StockOverview_tableName,conn,if_exists='replace',\n",
        "                        index=False,index_label='Record')\n",
        "conn.commit()"
      ]
    }
  ],
  "metadata": {
    "colab": {
      "authorship_tag": "ABX9TyNPTDvdNJrMG8qGV/WXMng9",
      "provenance": [],
      "toc_visible": true
    },
    "kernelspec": {
      "display_name": "Python 3",
      "name": "python3"
    },
    "language_info": {
      "codemirror_mode": {
        "name": "ipython",
        "version": 3
      },
      "file_extension": ".py",
      "mimetype": "text/x-python",
      "name": "python",
      "nbconvert_exporter": "python",
      "pygments_lexer": "ipython3",
      "version": "3.11.0"
    }
  },
  "nbformat": 4,
  "nbformat_minor": 0
}
