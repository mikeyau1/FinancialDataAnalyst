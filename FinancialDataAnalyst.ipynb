{
 "cells": [
  {
   "cell_type": "code",
   "execution_count": 1,
   "metadata": {},
   "outputs": [],
   "source": [
    "#Import package\n",
    "import numpy as np\n",
    "import pandas as pd\n",
    "import requests\n",
    "import time\n",
    "import sqlite3"
   ]
  },
  {
   "cell_type": "markdown",
   "metadata": {},
   "source": [
    "# Some useful function"
   ]
  },
  {
   "cell_type": "code",
   "execution_count": 2,
   "metadata": {},
   "outputs": [],
   "source": [
    "#Get Alpha Vantage api key\n",
    "def get_apikey(filename: str):\n",
    "    with open(filename) as f:\n",
    "        api_key = f.read().strip()\n",
    "    f.close\n",
    "    return api_key"
   ]
  },
  {
   "cell_type": "code",
   "execution_count": 3,
   "metadata": {},
   "outputs": [],
   "source": [
    "#Get daily core stock data from Alpha Vantage from 2000-01 to now\n",
    "def getDailyStockdata(ticker: str, outputsize = 'compact', datatype = 'json'):\n",
    "    function = 'TIME_SERIES_DAILY'\n",
    "    datatype = datatype\n",
    "    outputsize = outputsize\n",
    "    alpha_vantage_apikey = get_apikey(filename= 'dist/apikey_AlphaVantage')\n",
    "\n",
    "    url = f'https://www.alphavantage.co/query?function={function}&symbol={ticker}&outputsize={outputsize}&apikey={alpha_vantage_apikey}&datatype={datatype}'\n",
    "    r = requests.get(url)\n",
    "    df = pd.DataFrame.from_dict(r.json()['Time Series (Daily)'],orient='index')\n",
    "    df.columns = ['Open', 'High', 'Low', 'Close', 'Volume']\n",
    "    df = df.rename_axis('Date').reset_index()\n",
    "    df.insert(loc = 0, column = 'Ticker', value = ticker, allow_duplicates=True)\n",
    "    return df"
   ]
  },
  {
   "cell_type": "code",
   "execution_count": 4,
   "metadata": {},
   "outputs": [],
   "source": [
    "def getCompanyOverview(ticker: str):\n",
    "    #Delay api call\n",
    "    time.sleep(15)\n",
    "    function = 'OVERVIEW'\n",
    "    alpha_vantage_apikey = get_apikey(filename= 'dist/apikey_AlphaVantage')\n",
    "\n",
    "    url = f'https://www.alphavantage.co/query?function={function}&symbol={ticker}&apikey={alpha_vantage_apikey}'\n",
    "    r = requests.get(url)\n",
    "    return r.json()"
   ]
  },
  {
   "cell_type": "code",
   "execution_count": 5,
   "metadata": {},
   "outputs": [],
   "source": [
    "def connectToDatabase():\n",
    "    conn = sqlite3.connect('StockData.db')\n",
    "    cursor = conn.cursor()\n",
    "    \n",
    "    print('SQLite3 is connected')\n",
    "    return conn, cursor"
   ]
  },
  {
   "cell_type": "code",
   "execution_count": 6,
   "metadata": {},
   "outputs": [],
   "source": [
    "def isInDatabase(ticker: str, table: str, connection: sqlite3.Connection, cursor: sqlite3.Cursor):\n",
    "    sql = f'''\n",
    "    SELECT *\n",
    "    FROM {table}\n",
    "    WHERE Ticker = '{ticker}';\n",
    "    '''\n",
    "    connection.execute(sql)\n",
    "    if len(cursor.fetchall()) < 1: \n",
    "        print(f'{ticker} is in the Database')\n",
    "        return False\n",
    "    else: \n",
    "        print(f'{ticker} is not in the Database')\n",
    "        return True"
   ]
  },
  {
   "cell_type": "code",
   "execution_count": 7,
   "metadata": {},
   "outputs": [],
   "source": [
    "def pd2sql(table: str, df: pd.DataFrame, connection: sqlite3.Connection, append=False):\n",
    "    if not append:\n",
    "        df.to_sql(table, con = connection, if_exists='replace', index = False)\n",
    "    else: df.to_sql(table, con = connection, if_exists='append', index = False)\n",
    "    return print('Pandas to SQL finished')"
   ]
  },
  {
   "cell_type": "markdown",
   "metadata": {},
   "source": [
    "# Main"
   ]
  },
  {
   "cell_type": "code",
   "execution_count": 8,
   "metadata": {},
   "outputs": [
    {
     "name": "stdout",
     "output_type": "stream",
     "text": [
      "SQLite3 is connected\n"
     ]
    }
   ],
   "source": [
    "#Create a connection of SQLite3\n",
    "conn,cursor = connectToDatabase()"
   ]
  },
  {
   "cell_type": "code",
   "execution_count": 21,
   "metadata": {},
   "outputs": [],
   "source": [
    "#Store the S&P information in pandas dataframe\n",
    "wiki_url = \"https://en.wikipedia.org/wiki/List_of_S%26P_500_companies#Selected_changes_to_the_list_of_S&P_500_components\"\n",
    "tickers_df_list = pd.read_html(wiki_url)\n",
    "tickers_df = tickers_df_list[0]\n",
    "industry_dimension = tickers_df.loc[:, ['Symbol','GICS Sector','GICS Sub-Industry']]\n",
    "industry_dimension = industry_dimension.rename(columns={'Symbol': 'Ticker', 'GICS Sector': 'Sector', 'GICS Sub-Industry': 'SubIndustry'})"
   ]
  },
  {
   "cell_type": "code",
   "execution_count": 22,
   "metadata": {},
   "outputs": [
    {
     "name": "stdout",
     "output_type": "stream",
     "text": [
      "Pandas to SQL finished\n"
     ]
    }
   ],
   "source": [
    "#Store the industry_dimension to the SQLite3\n",
    "pd2sql('IndustryDimension',industry_dimension,conn)"
   ]
  },
  {
   "cell_type": "code",
   "execution_count": 10,
   "metadata": {},
   "outputs": [
    {
     "data": {
      "text/plain": [
       "503"
      ]
     },
     "execution_count": 10,
     "metadata": {},
     "output_type": "execute_result"
    }
   ],
   "source": [
    "#Turn pandas dataframe to the list\n",
    "tickers = tickers_df['Symbol'].values.tolist()\n",
    "len(tickers)"
   ]
  },
  {
   "cell_type": "code",
   "execution_count": 11,
   "metadata": {},
   "outputs": [],
   "source": [
    "#Define the columns and table name in SQLite3\n",
    "table = 'StockPrice'\n",
    "stock_df = pd.DataFrame(columns=['Ticker','Date','Open', 'High', 'Low', 'Close', 'Volume'])"
   ]
  },
  {
   "cell_type": "code",
   "execution_count": null,
   "metadata": {},
   "outputs": [],
   "source": [
    "#Download the financial data from Alpha vantage\n",
    "for ticker in tickers:\n",
    "    if not isInDatabase(ticker, table, conn, cursor):\n",
    "        try: stock_df = pd.concat([stock_df, getDailyStockdata(ticker,outputsize='full')], ignore_index = True)\n",
    "        except:\n",
    "            print(f'Next ticker: {ticker}') \n",
    "            continue"
   ]
  },
  {
   "cell_type": "code",
   "execution_count": null,
   "metadata": {},
   "outputs": [],
   "source": [
    "#Define the columns\n",
    "temp_json = getCompanyOverview('IBM')\n",
    "columns = [key for key in temp_json.keys()]\n",
    "\n",
    "#Change the first column form Symbol to Ticker\n",
    "columns[0] = 'Ticker'"
   ]
  },
  {
   "cell_type": "code",
   "execution_count": 1,
   "metadata": {},
   "outputs": [],
   "source": [
    "#Create a new dict to store the stock overview data\n",
    "StockOverview_dict = {}\n",
    "table = 'StockOverview'\n",
    "for column in columns:\n",
    "    StockOverview_dict[column] = []\n",
    "\n",
    "for ticker in tickers:\n",
    "    if not isInDatabase(ticker, table, conn, cursor):\n",
    "        try: r = getCompanyOverview(ticker)\n",
    "        except: continue\n",
    "        for key, value in r.items():\n",
    "            try: StockOverview_dict[key].append(value)\n",
    "            except: break"
   ]
  },
  {
   "cell_type": "markdown",
   "metadata": {},
   "source": [
    "## Explore the data"
   ]
  },
  {
   "cell_type": "code",
   "execution_count": 29,
   "metadata": {},
   "outputs": [
    {
     "data": {
      "text/html": [
       "<div>\n",
       "<style scoped>\n",
       "    .dataframe tbody tr th:only-of-type {\n",
       "        vertical-align: middle;\n",
       "    }\n",
       "\n",
       "    .dataframe tbody tr th {\n",
       "        vertical-align: top;\n",
       "    }\n",
       "\n",
       "    .dataframe thead th {\n",
       "        text-align: right;\n",
       "    }\n",
       "</style>\n",
       "<table border=\"1\" class=\"dataframe\">\n",
       "  <thead>\n",
       "    <tr style=\"text-align: right;\">\n",
       "      <th></th>\n",
       "      <th>Date</th>\n",
       "      <th>Ticker</th>\n",
       "      <th>Sector</th>\n",
       "      <th>SubIndustry</th>\n",
       "      <th>Open</th>\n",
       "      <th>High</th>\n",
       "      <th>Low</th>\n",
       "      <th>Close</th>\n",
       "    </tr>\n",
       "  </thead>\n",
       "  <tbody>\n",
       "    <tr>\n",
       "      <th>0</th>\n",
       "      <td>2023-07-28</td>\n",
       "      <td>MMM</td>\n",
       "      <td>Industrials</td>\n",
       "      <td>Industrial Conglomerates</td>\n",
       "      <td>111.87</td>\n",
       "      <td>112.4100</td>\n",
       "      <td>111.0450</td>\n",
       "      <td>111.88</td>\n",
       "    </tr>\n",
       "    <tr>\n",
       "      <th>1</th>\n",
       "      <td>2023-07-27</td>\n",
       "      <td>MMM</td>\n",
       "      <td>Industrials</td>\n",
       "      <td>Industrial Conglomerates</td>\n",
       "      <td>110.45</td>\n",
       "      <td>113.1400</td>\n",
       "      <td>110.4500</td>\n",
       "      <td>111.19</td>\n",
       "    </tr>\n",
       "    <tr>\n",
       "      <th>2</th>\n",
       "      <td>2023-07-26</td>\n",
       "      <td>MMM</td>\n",
       "      <td>Industrials</td>\n",
       "      <td>Industrial Conglomerates</td>\n",
       "      <td>109.84</td>\n",
       "      <td>113.0700</td>\n",
       "      <td>109.8400</td>\n",
       "      <td>112.64</td>\n",
       "    </tr>\n",
       "    <tr>\n",
       "      <th>3</th>\n",
       "      <td>2023-07-25</td>\n",
       "      <td>MMM</td>\n",
       "      <td>Industrials</td>\n",
       "      <td>Industrial Conglomerates</td>\n",
       "      <td>107.55</td>\n",
       "      <td>110.8500</td>\n",
       "      <td>107.0092</td>\n",
       "      <td>109.83</td>\n",
       "    </tr>\n",
       "    <tr>\n",
       "      <th>4</th>\n",
       "      <td>2023-07-24</td>\n",
       "      <td>MMM</td>\n",
       "      <td>Industrials</td>\n",
       "      <td>Industrial Conglomerates</td>\n",
       "      <td>104.53</td>\n",
       "      <td>105.6041</td>\n",
       "      <td>103.9800</td>\n",
       "      <td>104.27</td>\n",
       "    </tr>\n",
       "  </tbody>\n",
       "</table>\n",
       "</div>"
      ],
      "text/plain": [
       "         Date Ticker       Sector               SubIndustry    Open      High  \\\n",
       "0  2023-07-28    MMM  Industrials  Industrial Conglomerates  111.87  112.4100   \n",
       "1  2023-07-27    MMM  Industrials  Industrial Conglomerates  110.45  113.1400   \n",
       "2  2023-07-26    MMM  Industrials  Industrial Conglomerates  109.84  113.0700   \n",
       "3  2023-07-25    MMM  Industrials  Industrial Conglomerates  107.55  110.8500   \n",
       "4  2023-07-24    MMM  Industrials  Industrial Conglomerates  104.53  105.6041   \n",
       "\n",
       "        Low   Close  \n",
       "0  111.0450  111.88  \n",
       "1  110.4500  111.19  \n",
       "2  109.8400  112.64  \n",
       "3  107.0092  109.83  \n",
       "4  103.9800  104.27  "
      ]
     },
     "execution_count": 29,
     "metadata": {},
     "output_type": "execute_result"
    }
   ],
   "source": [
    "sql = '''\n",
    "SELECT Date, StockPrice.Ticker, Sector, SubIndustry, Open, High, Low, Close\n",
    "FROM StockPrice\n",
    "LEFT JOIN IndustryDimension ON StockPrice.Ticker = IndustryDimension.Ticker\n",
    "'''\n",
    "StockPrice_df = pd.read_sql(sql=sql, con=conn, dtype={'Open': np.double,'High': np.double, 'Low':np.double,'Close':np.double})\n",
    "StockPrice_df.head()"
   ]
  },
  {
   "cell_type": "code",
   "execution_count": 30,
   "metadata": {},
   "outputs": [
    {
     "name": "stdout",
     "output_type": "stream",
     "text": [
      "<class 'pandas.core.frame.DataFrame'>\n",
      "RangeIndex: 116428 entries, 0 to 116427\n",
      "Data columns (total 8 columns):\n",
      " #   Column       Non-Null Count   Dtype  \n",
      "---  ------       --------------   -----  \n",
      " 0   Date         116428 non-null  object \n",
      " 1   Ticker       116428 non-null  object \n",
      " 2   Sector       116428 non-null  object \n",
      " 3   SubIndustry  116428 non-null  object \n",
      " 4   Open         116428 non-null  float64\n",
      " 5   High         116428 non-null  float64\n",
      " 6   Low          116428 non-null  float64\n",
      " 7   Close        116428 non-null  float64\n",
      "dtypes: float64(4), object(4)\n",
      "memory usage: 7.1+ MB\n"
     ]
    }
   ],
   "source": [
    "StockPrice_df.info()"
   ]
  }
 ],
 "metadata": {
  "kernelspec": {
   "display_name": "Python 3",
   "language": "python",
   "name": "python3"
  },
  "language_info": {
   "codemirror_mode": {
    "name": "ipython",
    "version": 3
   },
   "file_extension": ".py",
   "mimetype": "text/x-python",
   "name": "python",
   "nbconvert_exporter": "python",
   "pygments_lexer": "ipython3",
   "version": "3.11.0"
  },
  "orig_nbformat": 4
 },
 "nbformat": 4,
 "nbformat_minor": 2
}
