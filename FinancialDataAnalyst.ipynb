{
  "cells": [
    {
      "attachments": {},
      "cell_type": "markdown",
      "metadata": {},
      "source": [
        "# Import package"
      ]
    },
    {
      "cell_type": "code",
      "execution_count": 2,
      "metadata": {},
      "outputs": [],
      "source": [
        "#Install module\n",
        "# %pip install --user --upgrade pandas"
      ]
    },
    {
      "cell_type": "code",
      "execution_count": 3,
      "metadata": {
        "id": "92_nygmWxxnq"
      },
      "outputs": [],
      "source": [
        "#Import package\n",
        "import numpy as np\n",
        "import pandas as pd\n",
        "from pandas_datareader import data as web\n",
        "import requests\n",
        "\n",
        "# import os\n",
        "# from tqdm import tqdm\n",
        "# from datetime import datetime\n",
        "# import yfinance as yf\n",
        "# import lxml\n",
        "# from bs4 import BeautifulSoup #BeutifulSoup"
      ]
    },
    {
      "cell_type": "markdown",
      "metadata": {},
      "source": [
        "# Some useful functions"
      ]
    },
    {
      "cell_type": "code",
      "execution_count": 4,
      "metadata": {},
      "outputs": [],
      "source": [
        "#Get Alpha Vantage api key\n",
        "def get_apikey(filename: str):\n",
        "    with open(filename) as f:\n",
        "        api_key = f.read().strip()\n",
        "    f.close\n",
        "    return api_key"
      ]
    },
    {
      "cell_type": "code",
      "execution_count": 5,
      "metadata": {},
      "outputs": [],
      "source": [
        "#Get daily core stock data from Alpha Vantage from 2000-01 to now\n",
        "def get_daily_stockdata(symbol:str, outputsize = 'compact', datatype = 'json'):\n",
        "    function = 'TIME_SERIES_DAILY'\n",
        "    datatype = datatype\n",
        "    outputsize = outputsize\n",
        "    ticker = symbol\n",
        "    alpha_vantage_apikey = get_apikey(filename= 'dist/apikey_AlphaVantage')\n",
        "\n",
        "    url = f'https://www.alphavantage.co/query?function={function}&symbol={ticker}&outputsize={outputsize}&apikey={alpha_vantage_apikey}&datatype={datatype}'\n",
        "    r = requests.get(url)\n",
        "    df = pd.DataFrame.from_dict(r.json()['Time Series (Daily)'],orient='index')\n",
        "    df.columns = ['Open', 'High', 'Low', 'Close', 'Volume']\n",
        "    df = df.rename_axis('Date').reset_index()\n",
        "    df.insert(loc = 0, column = 'Ticker', value = ticker, allow_duplicates=True)\n",
        "    return df"
      ]
    },
    {
      "attachments": {},
      "cell_type": "markdown",
      "metadata": {
        "id": "wRWPtJy05l2M"
      },
      "source": [
        "# Data Preparation"
      ]
    },
    {
      "attachments": {},
      "cell_type": "markdown",
      "metadata": {
        "id": "C-6Mrex15tjU"
      },
      "source": [
        "## Web Scrapping"
      ]
    },
    {
      "attachments": {},
      "cell_type": "markdown",
      "metadata": {
        "id": "AUxGrl1m5xhC"
      },
      "source": [
        "This section will perform web scrapping to scrap all S&P500 tickers on wikipedia. https://en.wikipedia.org/wiki/List_of_S%26P_500_companies\n",
        "\n",
        "We can simply use padnas to get the table from wiki."
      ]
    },
    {
      "cell_type": "code",
      "execution_count": 6,
      "metadata": {
        "colab": {
          "base_uri": "https://localhost:8080/",
          "height": 206
        },
        "id": "2666gJtt7jee",
        "outputId": "f0c08765-530a-48f8-b89d-1eff80a2bf4e"
      },
      "outputs": [
        {
          "data": {
            "text/html": [
              "<div>\n",
              "<style scoped>\n",
              "    .dataframe tbody tr th:only-of-type {\n",
              "        vertical-align: middle;\n",
              "    }\n",
              "\n",
              "    .dataframe tbody tr th {\n",
              "        vertical-align: top;\n",
              "    }\n",
              "\n",
              "    .dataframe thead th {\n",
              "        text-align: right;\n",
              "    }\n",
              "</style>\n",
              "<table border=\"1\" class=\"dataframe\">\n",
              "  <thead>\n",
              "    <tr style=\"text-align: right;\">\n",
              "      <th></th>\n",
              "      <th>Symbol</th>\n",
              "      <th>Security</th>\n",
              "      <th>GICS Sector</th>\n",
              "      <th>GICS Sub-Industry</th>\n",
              "      <th>Headquarters Location</th>\n",
              "      <th>Date added</th>\n",
              "      <th>CIK</th>\n",
              "      <th>Founded</th>\n",
              "    </tr>\n",
              "  </thead>\n",
              "  <tbody>\n",
              "    <tr>\n",
              "      <th>0</th>\n",
              "      <td>MMM</td>\n",
              "      <td>3M</td>\n",
              "      <td>Industrials</td>\n",
              "      <td>Industrial Conglomerates</td>\n",
              "      <td>Saint Paul, Minnesota</td>\n",
              "      <td>1957-03-04</td>\n",
              "      <td>66740</td>\n",
              "      <td>1902</td>\n",
              "    </tr>\n",
              "    <tr>\n",
              "      <th>1</th>\n",
              "      <td>AOS</td>\n",
              "      <td>A. O. Smith</td>\n",
              "      <td>Industrials</td>\n",
              "      <td>Building Products</td>\n",
              "      <td>Milwaukee, Wisconsin</td>\n",
              "      <td>2017-07-26</td>\n",
              "      <td>91142</td>\n",
              "      <td>1916</td>\n",
              "    </tr>\n",
              "    <tr>\n",
              "      <th>2</th>\n",
              "      <td>ABT</td>\n",
              "      <td>Abbott</td>\n",
              "      <td>Health Care</td>\n",
              "      <td>Health Care Equipment</td>\n",
              "      <td>North Chicago, Illinois</td>\n",
              "      <td>1957-03-04</td>\n",
              "      <td>1800</td>\n",
              "      <td>1888</td>\n",
              "    </tr>\n",
              "    <tr>\n",
              "      <th>3</th>\n",
              "      <td>ABBV</td>\n",
              "      <td>AbbVie</td>\n",
              "      <td>Health Care</td>\n",
              "      <td>Pharmaceuticals</td>\n",
              "      <td>North Chicago, Illinois</td>\n",
              "      <td>2012-12-31</td>\n",
              "      <td>1551152</td>\n",
              "      <td>2013 (1888)</td>\n",
              "    </tr>\n",
              "    <tr>\n",
              "      <th>4</th>\n",
              "      <td>ACN</td>\n",
              "      <td>Accenture</td>\n",
              "      <td>Information Technology</td>\n",
              "      <td>IT Consulting &amp; Other Services</td>\n",
              "      <td>Dublin, Ireland</td>\n",
              "      <td>2011-07-06</td>\n",
              "      <td>1467373</td>\n",
              "      <td>1989</td>\n",
              "    </tr>\n",
              "  </tbody>\n",
              "</table>\n",
              "</div>"
            ],
            "text/plain": [
              "  Symbol     Security             GICS Sector               GICS Sub-Industry  \\\n",
              "0    MMM           3M             Industrials        Industrial Conglomerates   \n",
              "1    AOS  A. O. Smith             Industrials               Building Products   \n",
              "2    ABT       Abbott             Health Care           Health Care Equipment   \n",
              "3   ABBV       AbbVie             Health Care                 Pharmaceuticals   \n",
              "4    ACN    Accenture  Information Technology  IT Consulting & Other Services   \n",
              "\n",
              "     Headquarters Location  Date added      CIK      Founded  \n",
              "0    Saint Paul, Minnesota  1957-03-04    66740         1902  \n",
              "1     Milwaukee, Wisconsin  2017-07-26    91142         1916  \n",
              "2  North Chicago, Illinois  1957-03-04     1800         1888  \n",
              "3  North Chicago, Illinois  2012-12-31  1551152  2013 (1888)  \n",
              "4          Dublin, Ireland  2011-07-06  1467373         1989  "
            ]
          },
          "execution_count": 6,
          "metadata": {},
          "output_type": "execute_result"
        }
      ],
      "source": [
        "#Store the S&P information in pandas dataframe\n",
        "wiki_url = \"https://en.wikipedia.org/wiki/List_of_S%26P_500_companies#Selected_changes_to_the_list_of_S&P_500_components\"\n",
        "tickers_df_list = pd.read_html(wiki_url)\n",
        "tickers_df = tickers_df_list[0]\n",
        "tickers_df.head()"
      ]
    },
    {
      "cell_type": "code",
      "execution_count": 7,
      "metadata": {
        "colab": {
          "base_uri": "https://localhost:8080/"
        },
        "id": "XN_wEqXR3fyR",
        "outputId": "878e2a74-1e2b-4763-8eda-e98dddcf482f"
      },
      "outputs": [
        {
          "name": "stdout",
          "output_type": "stream",
          "text": [
            "['MMM', 'AOS', 'ABT', 'ABBV', 'ACN', 'ATVI', 'ADM', 'ADBE', 'ADP', 'AAP', 'AES', 'AFL', 'A', 'APD', 'AKAM', 'ALK', 'ALB', 'ARE', 'ALGN', 'ALLE', 'LNT', 'ALL', 'GOOGL', 'GOOG', 'MO', 'AMZN', 'AMCR', 'AMD', 'AEE', 'AAL', 'AEP', 'AXP', 'AIG', 'AMT', 'AWK', 'AMP', 'ABC', 'AME', 'AMGN', 'APH', 'ADI', 'ANSS', 'AON', 'APA', 'AAPL', 'AMAT', 'APTV', 'ACGL', 'ANET', 'AJG', 'AIZ', 'T', 'ATO', 'ADSK', 'AZO', 'AVB', 'AVY', 'AXON', 'BKR', 'BALL', 'BAC', 'BBWI', 'BAX', 'BDX', 'WRB', 'BRK.B', 'BBY', 'BIO', 'TECH', 'BIIB', 'BLK', 'BK', 'BA', 'BKNG', 'BWA', 'BXP', 'BSX', 'BMY', 'AVGO', 'BR', 'BRO', 'BF.B', 'BG', 'CHRW', 'CDNS', 'CZR', 'CPT', 'CPB', 'COF', 'CAH', 'KMX', 'CCL', 'CARR', 'CTLT', 'CAT', 'CBOE', 'CBRE', 'CDW', 'CE', 'CNC', 'CNP', 'CDAY', 'CF', 'CRL', 'SCHW', 'CHTR', 'CVX', 'CMG', 'CB', 'CHD', 'CI', 'CINF', 'CTAS', 'CSCO', 'C', 'CFG', 'CLX', 'CME', 'CMS', 'KO', 'CTSH', 'CL', 'CMCSA', 'CMA', 'CAG', 'COP', 'ED', 'STZ', 'CEG', 'COO', 'CPRT', 'GLW', 'CTVA', 'CSGP', 'COST', 'CTRA', 'CCI', 'CSX', 'CMI', 'CVS', 'DHI', 'DHR', 'DRI', 'DVA', 'DE', 'DAL', 'XRAY', 'DVN', 'DXCM', 'FANG', 'DLR', 'DFS', 'DIS', 'DG', 'DLTR', 'D', 'DPZ', 'DOV', 'DOW', 'DTE', 'DUK', 'DD', 'DXC', 'EMN', 'ETN', 'EBAY', 'ECL', 'EIX', 'EW', 'EA', 'ELV', 'LLY', 'EMR', 'ENPH', 'ETR', 'EOG', 'EPAM', 'EQT', 'EFX', 'EQIX', 'EQR', 'ESS', 'EL', 'ETSY', 'EG', 'EVRG', 'ES', 'EXC', 'EXPE', 'EXPD', 'EXR', 'XOM', 'FFIV', 'FDS', 'FICO', 'FAST', 'FRT', 'FDX', 'FITB', 'FSLR', 'FE', 'FIS', 'FI', 'FLT', 'FMC', 'F', 'FTNT', 'FTV', 'FOXA', 'FOX', 'BEN', 'FCX', 'GRMN', 'IT', 'GEHC', 'GEN', 'GNRC', 'GD', 'GE', 'GIS', 'GM', 'GPC', 'GILD', 'GL', 'GPN', 'GS', 'HAL', 'HIG', 'HAS', 'HCA', 'PEAK', 'HSIC', 'HSY', 'HES', 'HPE', 'HLT', 'HOLX', 'HD', 'HON', 'HRL', 'HST', 'HWM', 'HPQ', 'HUM', 'HBAN', 'HII', 'IBM', 'IEX', 'IDXX', 'ITW', 'ILMN', 'INCY', 'IR', 'PODD', 'INTC', 'ICE', 'IFF', 'IP', 'IPG', 'INTU', 'ISRG', 'IVZ', 'INVH', 'IQV', 'IRM', 'JBHT', 'JKHY', 'J', 'JNJ', 'JCI', 'JPM', 'JNPR', 'K', 'KDP', 'KEY', 'KEYS', 'KMB', 'KIM', 'KMI', 'KLAC', 'KHC', 'KR', 'LHX', 'LH', 'LRCX', 'LW', 'LVS', 'LDOS', 'LEN', 'LNC', 'LIN', 'LYV', 'LKQ', 'LMT', 'L', 'LOW', 'LYB', 'MTB', 'MRO', 'MPC', 'MKTX', 'MAR', 'MMC', 'MLM', 'MAS', 'MA', 'MTCH', 'MKC', 'MCD', 'MCK', 'MDT', 'MRK', 'META', 'MET', 'MTD', 'MGM', 'MCHP', 'MU', 'MSFT', 'MAA', 'MRNA', 'MHK', 'MOH', 'TAP', 'MDLZ', 'MPWR', 'MNST', 'MCO', 'MS', 'MOS', 'MSI', 'MSCI', 'NDAQ', 'NTAP', 'NFLX', 'NWL', 'NEM', 'NWSA', 'NWS', 'NEE', 'NKE', 'NI', 'NDSN', 'NSC', 'NTRS', 'NOC', 'NCLH', 'NRG', 'NUE', 'NVDA', 'NVR', 'NXPI', 'ORLY', 'OXY', 'ODFL', 'OMC', 'ON', 'OKE', 'ORCL', 'OGN', 'OTIS', 'PCAR', 'PKG', 'PANW', 'PARA', 'PH', 'PAYX', 'PAYC', 'PYPL', 'PNR', 'PEP', 'PFE', 'PCG', 'PM', 'PSX', 'PNW', 'PXD', 'PNC', 'POOL', 'PPG', 'PPL', 'PFG', 'PG', 'PGR', 'PLD', 'PRU', 'PEG', 'PTC', 'PSA', 'PHM', 'QRVO', 'PWR', 'QCOM', 'DGX', 'RL', 'RJF', 'RTX', 'O', 'REG', 'REGN', 'RF', 'RSG', 'RMD', 'RVTY', 'RHI', 'ROK', 'ROL', 'ROP', 'ROST', 'RCL', 'SPGI', 'CRM', 'SBAC', 'SLB', 'STX', 'SEE', 'SRE', 'NOW', 'SHW', 'SPG', 'SWKS', 'SJM', 'SNA', 'SEDG', 'SO', 'LUV', 'SWK', 'SBUX', 'STT', 'STLD', 'STE', 'SYK', 'SYF', 'SNPS', 'SYY', 'TMUS', 'TROW', 'TTWO', 'TPR', 'TRGP', 'TGT', 'TEL', 'TDY', 'TFX', 'TER', 'TSLA', 'TXN', 'TXT', 'TMO', 'TJX', 'TSCO', 'TT', 'TDG', 'TRV', 'TRMB', 'TFC', 'TYL', 'TSN', 'USB', 'UDR', 'ULTA', 'UNP', 'UAL', 'UPS', 'URI', 'UNH', 'UHS', 'VLO', 'VTR', 'VRSN', 'VRSK', 'VZ', 'VRTX', 'VFC', 'VTRS', 'VICI', 'V', 'VMC', 'WAB', 'WBA', 'WMT', 'WBD', 'WM', 'WAT', 'WEC', 'WFC', 'WELL', 'WST', 'WDC', 'WRK', 'WY', 'WHR', 'WMB', 'WTW', 'GWW', 'WYNN', 'XEL', 'XYL', 'YUM', 'ZBRA', 'ZBH', 'ZION', 'ZTS']\n"
          ]
        }
      ],
      "source": [
        "#Turn pandas dataframe to the list\n",
        "tickers = tickers_df['Symbol'].values.tolist()\n",
        "print(tickers)"
      ]
    },
    {
      "attachments": {},
      "cell_type": "markdown",
      "metadata": {
        "id": "A_knpKMqKRzk"
      },
      "source": [
        "## Download the financial data"
      ]
    },
    {
      "cell_type": "code",
      "execution_count": 15,
      "metadata": {
        "colab": {
          "base_uri": "https://localhost:8080/",
          "height": 235
        },
        "id": "hGrNSGXc3YmK",
        "outputId": "df6186bf-e603-4771-c181-a257b7b1d722"
      },
      "outputs": [],
      "source": [
        "#Download the financial data from Alpha vantage\n",
        "# tickers_test = ['AAPL','MMM','ABT', 'ABBV', 'ACN', 'ATVI', 'ADM', 'ADBE', 'ADP', 'AAP', 'AES', 'AFL']\n",
        "\n",
        "stock_df = pd.DataFrame(columns=['Ticker','Date','Open', 'High', 'Low', 'Close', 'Volume'])\n",
        "for ticker in tickers:\n",
        "    try: stock_df = pd.concat([stock_df, get_daily_stockdata(ticker,outputsize='full')], ignore_index = True)\n",
        "    except: continue"
      ]
    },
    {
      "cell_type": "code",
      "execution_count": 16,
      "metadata": {},
      "outputs": [
        {
          "data": {
            "text/html": [
              "<div>\n",
              "<style scoped>\n",
              "    .dataframe tbody tr th:only-of-type {\n",
              "        vertical-align: middle;\n",
              "    }\n",
              "\n",
              "    .dataframe tbody tr th {\n",
              "        vertical-align: top;\n",
              "    }\n",
              "\n",
              "    .dataframe thead th {\n",
              "        text-align: right;\n",
              "    }\n",
              "</style>\n",
              "<table border=\"1\" class=\"dataframe\">\n",
              "  <thead>\n",
              "    <tr style=\"text-align: right;\">\n",
              "      <th></th>\n",
              "      <th>Ticker</th>\n",
              "      <th>Date</th>\n",
              "      <th>Open</th>\n",
              "      <th>High</th>\n",
              "      <th>Low</th>\n",
              "      <th>Close</th>\n",
              "      <th>Volume</th>\n",
              "    </tr>\n",
              "  </thead>\n",
              "  <tbody>\n",
              "    <tr>\n",
              "      <th>0</th>\n",
              "      <td>MMM</td>\n",
              "      <td>2023-07-28</td>\n",
              "      <td>111.8700</td>\n",
              "      <td>112.4100</td>\n",
              "      <td>111.0450</td>\n",
              "      <td>111.8800</td>\n",
              "      <td>2910759</td>\n",
              "    </tr>\n",
              "    <tr>\n",
              "      <th>1</th>\n",
              "      <td>MMM</td>\n",
              "      <td>2023-07-27</td>\n",
              "      <td>110.4500</td>\n",
              "      <td>113.1400</td>\n",
              "      <td>110.4500</td>\n",
              "      <td>111.1900</td>\n",
              "      <td>5613488</td>\n",
              "    </tr>\n",
              "    <tr>\n",
              "      <th>2</th>\n",
              "      <td>MMM</td>\n",
              "      <td>2023-07-26</td>\n",
              "      <td>109.8400</td>\n",
              "      <td>113.0700</td>\n",
              "      <td>109.8400</td>\n",
              "      <td>112.6400</td>\n",
              "      <td>5594986</td>\n",
              "    </tr>\n",
              "    <tr>\n",
              "      <th>3</th>\n",
              "      <td>MMM</td>\n",
              "      <td>2023-07-25</td>\n",
              "      <td>107.5500</td>\n",
              "      <td>110.8500</td>\n",
              "      <td>107.0092</td>\n",
              "      <td>109.8300</td>\n",
              "      <td>8778880</td>\n",
              "    </tr>\n",
              "    <tr>\n",
              "      <th>4</th>\n",
              "      <td>MMM</td>\n",
              "      <td>2023-07-24</td>\n",
              "      <td>104.5300</td>\n",
              "      <td>105.6041</td>\n",
              "      <td>103.9800</td>\n",
              "      <td>104.2700</td>\n",
              "      <td>3333380</td>\n",
              "    </tr>\n",
              "    <tr>\n",
              "      <th>...</th>\n",
              "      <td>...</td>\n",
              "      <td>...</td>\n",
              "      <td>...</td>\n",
              "      <td>...</td>\n",
              "      <td>...</td>\n",
              "      <td>...</td>\n",
              "      <td>...</td>\n",
              "    </tr>\n",
              "    <tr>\n",
              "      <th>156951</th>\n",
              "      <td>WMB</td>\n",
              "      <td>1999-11-05</td>\n",
              "      <td>35.5300</td>\n",
              "      <td>36.0900</td>\n",
              "      <td>34.4800</td>\n",
              "      <td>34.7300</td>\n",
              "      <td>2316900</td>\n",
              "    </tr>\n",
              "    <tr>\n",
              "      <th>156952</th>\n",
              "      <td>WMB</td>\n",
              "      <td>1999-11-04</td>\n",
              "      <td>36.2200</td>\n",
              "      <td>36.5900</td>\n",
              "      <td>35.2900</td>\n",
              "      <td>35.6600</td>\n",
              "      <td>2580700</td>\n",
              "    </tr>\n",
              "    <tr>\n",
              "      <th>156953</th>\n",
              "      <td>WMB</td>\n",
              "      <td>1999-11-03</td>\n",
              "      <td>36.4600</td>\n",
              "      <td>36.7700</td>\n",
              "      <td>35.2900</td>\n",
              "      <td>35.6600</td>\n",
              "      <td>3178600</td>\n",
              "    </tr>\n",
              "    <tr>\n",
              "      <th>156954</th>\n",
              "      <td>WMB</td>\n",
              "      <td>1999-11-02</td>\n",
              "      <td>37.6400</td>\n",
              "      <td>37.7700</td>\n",
              "      <td>37.0800</td>\n",
              "      <td>37.3300</td>\n",
              "      <td>1821800</td>\n",
              "    </tr>\n",
              "    <tr>\n",
              "      <th>156955</th>\n",
              "      <td>WMB</td>\n",
              "      <td>1999-11-01</td>\n",
              "      <td>37.2700</td>\n",
              "      <td>37.7000</td>\n",
              "      <td>36.9600</td>\n",
              "      <td>37.5200</td>\n",
              "      <td>1320400</td>\n",
              "    </tr>\n",
              "  </tbody>\n",
              "</table>\n",
              "<p>156956 rows × 7 columns</p>\n",
              "</div>"
            ],
            "text/plain": [
              "       Ticker        Date      Open      High       Low     Close   Volume\n",
              "0         MMM  2023-07-28  111.8700  112.4100  111.0450  111.8800  2910759\n",
              "1         MMM  2023-07-27  110.4500  113.1400  110.4500  111.1900  5613488\n",
              "2         MMM  2023-07-26  109.8400  113.0700  109.8400  112.6400  5594986\n",
              "3         MMM  2023-07-25  107.5500  110.8500  107.0092  109.8300  8778880\n",
              "4         MMM  2023-07-24  104.5300  105.6041  103.9800  104.2700  3333380\n",
              "...       ...         ...       ...       ...       ...       ...      ...\n",
              "156951    WMB  1999-11-05   35.5300   36.0900   34.4800   34.7300  2316900\n",
              "156952    WMB  1999-11-04   36.2200   36.5900   35.2900   35.6600  2580700\n",
              "156953    WMB  1999-11-03   36.4600   36.7700   35.2900   35.6600  3178600\n",
              "156954    WMB  1999-11-02   37.6400   37.7700   37.0800   37.3300  1821800\n",
              "156955    WMB  1999-11-01   37.2700   37.7000   36.9600   37.5200  1320400\n",
              "\n",
              "[156956 rows x 7 columns]"
            ]
          },
          "execution_count": 16,
          "metadata": {},
          "output_type": "execute_result"
        }
      ],
      "source": [
        "stock_df"
      ]
    }
  ],
  "metadata": {
    "colab": {
      "authorship_tag": "ABX9TyNPTDvdNJrMG8qGV/WXMng9",
      "provenance": [],
      "toc_visible": true
    },
    "kernelspec": {
      "display_name": "Python 3",
      "name": "python3"
    },
    "language_info": {
      "codemirror_mode": {
        "name": "ipython",
        "version": 3
      },
      "file_extension": ".py",
      "mimetype": "text/x-python",
      "name": "python",
      "nbconvert_exporter": "python",
      "pygments_lexer": "ipython3",
      "version": "3.11.0"
    }
  },
  "nbformat": 4,
  "nbformat_minor": 0
}
