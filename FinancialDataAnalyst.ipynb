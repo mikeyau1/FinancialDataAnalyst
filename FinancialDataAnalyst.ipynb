{
  "cells": [
    {
      "attachments": {},
      "cell_type": "markdown",
      "metadata": {},
      "source": [
        "# Import package"
      ]
    },
    {
      "cell_type": "code",
      "execution_count": 1,
      "metadata": {},
      "outputs": [
        {
          "name": "stdout",
          "output_type": "stream",
          "text": [
            "Requirement already satisfied: SQLAlchemy in c:\\users\\user\\appdata\\roaming\\python\\python311\\site-packages (2.0.19)\n",
            "Requirement already satisfied: typing-extensions>=4.2.0 in c:\\users\\user\\appdata\\roaming\\python\\python311\\site-packages (from SQLAlchemy) (4.7.1)\n",
            "Requirement already satisfied: greenlet!=0.4.17 in c:\\users\\user\\appdata\\roaming\\python\\python311\\site-packages (from SQLAlchemy) (2.0.2)\n",
            "Note: you may need to restart the kernel to use updated packages.\n"
          ]
        }
      ],
      "source": [
        "#Install module\n",
        "# %pip install --user --upgrade pandas\n",
        "%pip install --user SQLAlchemy"
      ]
    },
    {
      "cell_type": "code",
      "execution_count": 1,
      "metadata": {
        "id": "92_nygmWxxnq"
      },
      "outputs": [],
      "source": [
        "#Import package\n",
        "import numpy as np\n",
        "import pandas as pd\n",
        "from pandas_datareader import data as web\n",
        "import requests\n",
        "from sqlalchemy import BigInteger, Numeric, Date, Text, String\n",
        "import time\n",
        "# import os\n",
        "# from tqdm import tqdm\n",
        "# from datetime import datetime\n",
        "# import yfinance as yf\n",
        "# import lxml\n",
        "# from bs4 import BeautifulSoup #BeutifulSoup"
      ]
    },
    {
      "attachments": {},
      "cell_type": "markdown",
      "metadata": {
        "id": "wRWPtJy05l2M"
      },
      "source": [
        "# Data Preparation"
      ]
    },
    {
      "cell_type": "markdown",
      "metadata": {},
      "source": [
        "# Some useful functions"
      ]
    },
    {
      "cell_type": "code",
      "execution_count": 2,
      "metadata": {},
      "outputs": [],
      "source": [
        "#Get Alpha Vantage api key\n",
        "def get_apikey(filename: str):\n",
        "    with open(filename) as f:\n",
        "        api_key = f.read().strip()\n",
        "    f.close\n",
        "    return api_key"
      ]
    },
    {
      "cell_type": "code",
      "execution_count": 3,
      "metadata": {},
      "outputs": [],
      "source": [
        "#Get daily core stock data from Alpha Vantage from 2000-01 to now\n",
        "def getDailyStockdata(ticker: str, outputsize = 'compact', datatype = 'json') -> pd.DataFrame:\n",
        "    function = 'TIME_SERIES_DAILY'\n",
        "    datatype = datatype\n",
        "    outputsize = outputsize\n",
        "    alpha_vantage_apikey = get_apikey(filename= 'dist/apikey_AlphaVantage')\n",
        "\n",
        "    url = f'https://www.alphavantage.co/query?function={function}&symbol={ticker}&outputsize={outputsize}&apikey={alpha_vantage_apikey}&datatype={datatype}'\n",
        "    r = requests.get(url)\n",
        "    df = pd.DataFrame.from_dict(r.json()['Time Series (Daily)'],orient='index')\n",
        "    df.columns = ['Open', 'High', 'Low', 'Close', 'Volume']\n",
        "    df = df.rename_axis('Date').reset_index()\n",
        "    df.insert(loc = 0, column = 'Ticker', value = ticker, allow_duplicates=True)\n",
        "    return df"
      ]
    },
    {
      "cell_type": "code",
      "execution_count": 4,
      "metadata": {},
      "outputs": [],
      "source": [
        "def getCompanyOverview(ticker: str) -> dict:\n",
        "    #Delay api call\n",
        "    time.sleep(15)\n",
        "    function = 'OVERVIEW'\n",
        "    alpha_vantage_apikey = get_apikey(filename= 'dist/apikey_AlphaVantage')\n",
        "\n",
        "    url = f'https://www.alphavantage.co/query?function={function}&symbol={ticker}&apikey={alpha_vantage_apikey}'\n",
        "    r = requests.get(url)\n",
        "    return r.json()"
      ]
    },
    {
      "cell_type": "code",
      "execution_count": null,
      "metadata": {},
      "outputs": [],
      "source": [
        "def isInDatabase(ticker: str, table: str) -> bool:\n",
        "    import sqlite3\n",
        "    \n",
        "    conn = sqlite3.connect('StockData.db')\n",
        "    cursor = conn.cursor()\n",
        "    sql = f'''\n",
        "    SELECT *\n",
        "    FROM {table}\n",
        "    WHERE Symbol = '{ticker}'\n",
        "    '''\n",
        "    try: pd.read_sql(sql,conn)\n",
        "    except: return False\n"
      ]
    },
    {
      "cell_type": "code",
      "execution_count": 40,
      "metadata": {},
      "outputs": [
        {
          "data": {
            "text/html": [
              "<div>\n",
              "<style scoped>\n",
              "    .dataframe tbody tr th:only-of-type {\n",
              "        vertical-align: middle;\n",
              "    }\n",
              "\n",
              "    .dataframe tbody tr th {\n",
              "        vertical-align: top;\n",
              "    }\n",
              "\n",
              "    .dataframe thead th {\n",
              "        text-align: right;\n",
              "    }\n",
              "</style>\n",
              "<table border=\"1\" class=\"dataframe\">\n",
              "  <thead>\n",
              "    <tr style=\"text-align: right;\">\n",
              "      <th></th>\n",
              "      <th>Symbol</th>\n",
              "      <th>AssetType</th>\n",
              "      <th>Name</th>\n",
              "      <th>Description</th>\n",
              "      <th>CIK</th>\n",
              "      <th>Exchange</th>\n",
              "      <th>Currency</th>\n",
              "      <th>Country</th>\n",
              "      <th>Sector</th>\n",
              "      <th>Industry</th>\n",
              "      <th>...</th>\n",
              "      <th>EVToRevenue</th>\n",
              "      <th>EVToEBITDA</th>\n",
              "      <th>Beta</th>\n",
              "      <th>52WeekHigh</th>\n",
              "      <th>52WeekLow</th>\n",
              "      <th>50DayMovingAverage</th>\n",
              "      <th>200DayMovingAverage</th>\n",
              "      <th>SharesOutstanding</th>\n",
              "      <th>DividendDate</th>\n",
              "      <th>ExDividendDate</th>\n",
              "    </tr>\n",
              "  </thead>\n",
              "  <tbody>\n",
              "  </tbody>\n",
              "</table>\n",
              "<p>0 rows × 46 columns</p>\n",
              "</div>"
            ],
            "text/plain": [
              "Empty DataFrame\n",
              "Columns: [Symbol, AssetType, Name, Description, CIK, Exchange, Currency, Country, Sector, Industry, Address, FiscalYearEnd, LatestQuarter, MarketCapitalization, EBITDA, PERatio, PEGRatio, BookValue, DividendPerShare, DividendYield, EPS, RevenuePerShareTTM, ProfitMargin, OperatingMarginTTM, ReturnOnAssetsTTM, ReturnOnEquityTTM, RevenueTTM, GrossProfitTTM, DilutedEPSTTM, QuarterlyEarningsGrowthYOY, QuarterlyRevenueGrowthYOY, AnalystTargetPrice, TrailingPE, ForwardPE, PriceToSalesRatioTTM, PriceToBookRatio, EVToRevenue, EVToEBITDA, Beta, 52WeekHigh, 52WeekLow, 50DayMovingAverage, 200DayMovingAverage, SharesOutstanding, DividendDate, ExDividendDate]\n",
              "Index: []\n",
              "\n",
              "[0 rows x 46 columns]"
            ]
          },
          "execution_count": 40,
          "metadata": {},
          "output_type": "execute_result"
        }
      ],
      "source": [
        "sql = f'''\n",
        "    SELECT *\n",
        "    FROM StockOverview\n",
        "    WHERE Symbol = 'MSFT'\n",
        "    '''\n",
        "test = pd.read_sql(sql,conn)\n",
        "test"
      ]
    },
    {
      "cell_type": "code",
      "execution_count": 41,
      "metadata": {},
      "outputs": [
        {
          "ename": "IndexError",
          "evalue": "single positional indexer is out-of-bounds",
          "output_type": "error",
          "traceback": [
            "\u001b[1;31m---------------------------------------------------------------------------\u001b[0m",
            "\u001b[1;31mIndexError\u001b[0m                                Traceback (most recent call last)",
            "Cell \u001b[1;32mIn[41], line 1\u001b[0m\n\u001b[1;32m----> 1\u001b[0m test\u001b[39m.\u001b[39;49miloc[\u001b[39m0\u001b[39;49m]\n",
            "File \u001b[1;32mc:\\Python311\\Lib\\site-packages\\pandas\\core\\indexing.py:1103\u001b[0m, in \u001b[0;36m_LocationIndexer.__getitem__\u001b[1;34m(self, key)\u001b[0m\n\u001b[0;32m   1100\u001b[0m axis \u001b[39m=\u001b[39m \u001b[39mself\u001b[39m\u001b[39m.\u001b[39maxis \u001b[39mor\u001b[39;00m \u001b[39m0\u001b[39m\n\u001b[0;32m   1102\u001b[0m maybe_callable \u001b[39m=\u001b[39m com\u001b[39m.\u001b[39mapply_if_callable(key, \u001b[39mself\u001b[39m\u001b[39m.\u001b[39mobj)\n\u001b[1;32m-> 1103\u001b[0m \u001b[39mreturn\u001b[39;00m \u001b[39mself\u001b[39;49m\u001b[39m.\u001b[39;49m_getitem_axis(maybe_callable, axis\u001b[39m=\u001b[39;49maxis)\n",
            "File \u001b[1;32mc:\\Python311\\Lib\\site-packages\\pandas\\core\\indexing.py:1656\u001b[0m, in \u001b[0;36m_iLocIndexer._getitem_axis\u001b[1;34m(self, key, axis)\u001b[0m\n\u001b[0;32m   1653\u001b[0m     \u001b[39mraise\u001b[39;00m \u001b[39mTypeError\u001b[39;00m(\u001b[39m\"\u001b[39m\u001b[39mCannot index by location index with a non-integer key\u001b[39m\u001b[39m\"\u001b[39m)\n\u001b[0;32m   1655\u001b[0m \u001b[39m# validate the location\u001b[39;00m\n\u001b[1;32m-> 1656\u001b[0m \u001b[39mself\u001b[39;49m\u001b[39m.\u001b[39;49m_validate_integer(key, axis)\n\u001b[0;32m   1658\u001b[0m \u001b[39mreturn\u001b[39;00m \u001b[39mself\u001b[39m\u001b[39m.\u001b[39mobj\u001b[39m.\u001b[39m_ixs(key, axis\u001b[39m=\u001b[39maxis)\n",
            "File \u001b[1;32mc:\\Python311\\Lib\\site-packages\\pandas\\core\\indexing.py:1589\u001b[0m, in \u001b[0;36m_iLocIndexer._validate_integer\u001b[1;34m(self, key, axis)\u001b[0m\n\u001b[0;32m   1587\u001b[0m len_axis \u001b[39m=\u001b[39m \u001b[39mlen\u001b[39m(\u001b[39mself\u001b[39m\u001b[39m.\u001b[39mobj\u001b[39m.\u001b[39m_get_axis(axis))\n\u001b[0;32m   1588\u001b[0m \u001b[39mif\u001b[39;00m key \u001b[39m>\u001b[39m\u001b[39m=\u001b[39m len_axis \u001b[39mor\u001b[39;00m key \u001b[39m<\u001b[39m \u001b[39m-\u001b[39mlen_axis:\n\u001b[1;32m-> 1589\u001b[0m     \u001b[39mraise\u001b[39;00m \u001b[39mIndexError\u001b[39;00m(\u001b[39m\"\u001b[39m\u001b[39msingle positional indexer is out-of-bounds\u001b[39m\u001b[39m\"\u001b[39m)\n",
            "\u001b[1;31mIndexError\u001b[0m: single positional indexer is out-of-bounds"
          ]
        }
      ],
      "source": [
        "test.iloc[0]"
      ]
    },
    {
      "attachments": {},
      "cell_type": "markdown",
      "metadata": {
        "id": "C-6Mrex15tjU"
      },
      "source": [
        "## Web Scrapping"
      ]
    },
    {
      "attachments": {},
      "cell_type": "markdown",
      "metadata": {
        "id": "AUxGrl1m5xhC"
      },
      "source": [
        "This section will perform web scrapping to scrap all S&P500 tickers on wikipedia. https://en.wikipedia.org/wiki/List_of_S%26P_500_companies\n",
        "\n",
        "We can simply use padnas to get the table from wiki."
      ]
    },
    {
      "cell_type": "code",
      "execution_count": 5,
      "metadata": {
        "colab": {
          "base_uri": "https://localhost:8080/",
          "height": 206
        },
        "id": "2666gJtt7jee",
        "outputId": "f0c08765-530a-48f8-b89d-1eff80a2bf4e"
      },
      "outputs": [],
      "source": [
        "#Store the S&P information in pandas dataframe\n",
        "wiki_url = \"https://en.wikipedia.org/wiki/List_of_S%26P_500_companies#Selected_changes_to_the_list_of_S&P_500_components\"\n",
        "tickers_df_list = pd.read_html(wiki_url)\n",
        "tickers_df = tickers_df_list[0]\n",
        "industry_dimension = tickers_df.loc[:, ['Symbol','GICS Sector','GICS Sub-Industry']]"
      ]
    },
    {
      "cell_type": "code",
      "execution_count": 6,
      "metadata": {},
      "outputs": [
        {
          "data": {
            "text/html": [
              "<div>\n",
              "<style scoped>\n",
              "    .dataframe tbody tr th:only-of-type {\n",
              "        vertical-align: middle;\n",
              "    }\n",
              "\n",
              "    .dataframe tbody tr th {\n",
              "        vertical-align: top;\n",
              "    }\n",
              "\n",
              "    .dataframe thead th {\n",
              "        text-align: right;\n",
              "    }\n",
              "</style>\n",
              "<table border=\"1\" class=\"dataframe\">\n",
              "  <thead>\n",
              "    <tr style=\"text-align: right;\">\n",
              "      <th></th>\n",
              "      <th>Symbol</th>\n",
              "      <th>GICS Sector</th>\n",
              "      <th>GICS Sub-Industry</th>\n",
              "    </tr>\n",
              "  </thead>\n",
              "  <tbody>\n",
              "    <tr>\n",
              "      <th>498</th>\n",
              "      <td>YUM</td>\n",
              "      <td>Consumer Discretionary</td>\n",
              "      <td>Restaurants</td>\n",
              "    </tr>\n",
              "    <tr>\n",
              "      <th>499</th>\n",
              "      <td>ZBRA</td>\n",
              "      <td>Information Technology</td>\n",
              "      <td>Electronic Equipment &amp; Instruments</td>\n",
              "    </tr>\n",
              "    <tr>\n",
              "      <th>500</th>\n",
              "      <td>ZBH</td>\n",
              "      <td>Health Care</td>\n",
              "      <td>Health Care Equipment</td>\n",
              "    </tr>\n",
              "    <tr>\n",
              "      <th>501</th>\n",
              "      <td>ZION</td>\n",
              "      <td>Financials</td>\n",
              "      <td>Regional Banks</td>\n",
              "    </tr>\n",
              "    <tr>\n",
              "      <th>502</th>\n",
              "      <td>ZTS</td>\n",
              "      <td>Health Care</td>\n",
              "      <td>Pharmaceuticals</td>\n",
              "    </tr>\n",
              "  </tbody>\n",
              "</table>\n",
              "</div>"
            ],
            "text/plain": [
              "    Symbol             GICS Sector                   GICS Sub-Industry\n",
              "498    YUM  Consumer Discretionary                         Restaurants\n",
              "499   ZBRA  Information Technology  Electronic Equipment & Instruments\n",
              "500    ZBH             Health Care               Health Care Equipment\n",
              "501   ZION              Financials                      Regional Banks\n",
              "502    ZTS             Health Care                     Pharmaceuticals"
            ]
          },
          "execution_count": 6,
          "metadata": {},
          "output_type": "execute_result"
        }
      ],
      "source": [
        "industry_dimension.tail()"
      ]
    },
    {
      "cell_type": "code",
      "execution_count": 7,
      "metadata": {
        "colab": {
          "base_uri": "https://localhost:8080/"
        },
        "id": "XN_wEqXR3fyR",
        "outputId": "878e2a74-1e2b-4763-8eda-e98dddcf482f"
      },
      "outputs": [
        {
          "name": "stdout",
          "output_type": "stream",
          "text": [
            "['MMM', 'AOS', 'ABT', 'ABBV', 'ACN', 'ATVI', 'ADM', 'ADBE', 'ADP', 'AAP', 'AES', 'AFL', 'A', 'APD', 'AKAM', 'ALK', 'ALB', 'ARE', 'ALGN', 'ALLE', 'LNT', 'ALL', 'GOOGL', 'GOOG', 'MO', 'AMZN', 'AMCR', 'AMD', 'AEE', 'AAL', 'AEP', 'AXP', 'AIG', 'AMT', 'AWK', 'AMP', 'ABC', 'AME', 'AMGN', 'APH', 'ADI', 'ANSS', 'AON', 'APA', 'AAPL', 'AMAT', 'APTV', 'ACGL', 'ANET', 'AJG', 'AIZ', 'T', 'ATO', 'ADSK', 'AZO', 'AVB', 'AVY', 'AXON', 'BKR', 'BALL', 'BAC', 'BBWI', 'BAX', 'BDX', 'WRB', 'BRK.B', 'BBY', 'BIO', 'TECH', 'BIIB', 'BLK', 'BK', 'BA', 'BKNG', 'BWA', 'BXP', 'BSX', 'BMY', 'AVGO', 'BR', 'BRO', 'BF.B', 'BG', 'CHRW', 'CDNS', 'CZR', 'CPT', 'CPB', 'COF', 'CAH', 'KMX', 'CCL', 'CARR', 'CTLT', 'CAT', 'CBOE', 'CBRE', 'CDW', 'CE', 'CNC', 'CNP', 'CDAY', 'CF', 'CRL', 'SCHW', 'CHTR', 'CVX', 'CMG', 'CB', 'CHD', 'CI', 'CINF', 'CTAS', 'CSCO', 'C', 'CFG', 'CLX', 'CME', 'CMS', 'KO', 'CTSH', 'CL', 'CMCSA', 'CMA', 'CAG', 'COP', 'ED', 'STZ', 'CEG', 'COO', 'CPRT', 'GLW', 'CTVA', 'CSGP', 'COST', 'CTRA', 'CCI', 'CSX', 'CMI', 'CVS', 'DHI', 'DHR', 'DRI', 'DVA', 'DE', 'DAL', 'XRAY', 'DVN', 'DXCM', 'FANG', 'DLR', 'DFS', 'DIS', 'DG', 'DLTR', 'D', 'DPZ', 'DOV', 'DOW', 'DTE', 'DUK', 'DD', 'DXC', 'EMN', 'ETN', 'EBAY', 'ECL', 'EIX', 'EW', 'EA', 'ELV', 'LLY', 'EMR', 'ENPH', 'ETR', 'EOG', 'EPAM', 'EQT', 'EFX', 'EQIX', 'EQR', 'ESS', 'EL', 'ETSY', 'EG', 'EVRG', 'ES', 'EXC', 'EXPE', 'EXPD', 'EXR', 'XOM', 'FFIV', 'FDS', 'FICO', 'FAST', 'FRT', 'FDX', 'FITB', 'FSLR', 'FE', 'FIS', 'FI', 'FLT', 'FMC', 'F', 'FTNT', 'FTV', 'FOXA', 'FOX', 'BEN', 'FCX', 'GRMN', 'IT', 'GEHC', 'GEN', 'GNRC', 'GD', 'GE', 'GIS', 'GM', 'GPC', 'GILD', 'GL', 'GPN', 'GS', 'HAL', 'HIG', 'HAS', 'HCA', 'PEAK', 'HSIC', 'HSY', 'HES', 'HPE', 'HLT', 'HOLX', 'HD', 'HON', 'HRL', 'HST', 'HWM', 'HPQ', 'HUM', 'HBAN', 'HII', 'IBM', 'IEX', 'IDXX', 'ITW', 'ILMN', 'INCY', 'IR', 'PODD', 'INTC', 'ICE', 'IFF', 'IP', 'IPG', 'INTU', 'ISRG', 'IVZ', 'INVH', 'IQV', 'IRM', 'JBHT', 'JKHY', 'J', 'JNJ', 'JCI', 'JPM', 'JNPR', 'K', 'KDP', 'KEY', 'KEYS', 'KMB', 'KIM', 'KMI', 'KLAC', 'KHC', 'KR', 'LHX', 'LH', 'LRCX', 'LW', 'LVS', 'LDOS', 'LEN', 'LNC', 'LIN', 'LYV', 'LKQ', 'LMT', 'L', 'LOW', 'LYB', 'MTB', 'MRO', 'MPC', 'MKTX', 'MAR', 'MMC', 'MLM', 'MAS', 'MA', 'MTCH', 'MKC', 'MCD', 'MCK', 'MDT', 'MRK', 'META', 'MET', 'MTD', 'MGM', 'MCHP', 'MU', 'MSFT', 'MAA', 'MRNA', 'MHK', 'MOH', 'TAP', 'MDLZ', 'MPWR', 'MNST', 'MCO', 'MS', 'MOS', 'MSI', 'MSCI', 'NDAQ', 'NTAP', 'NFLX', 'NWL', 'NEM', 'NWSA', 'NWS', 'NEE', 'NKE', 'NI', 'NDSN', 'NSC', 'NTRS', 'NOC', 'NCLH', 'NRG', 'NUE', 'NVDA', 'NVR', 'NXPI', 'ORLY', 'OXY', 'ODFL', 'OMC', 'ON', 'OKE', 'ORCL', 'OGN', 'OTIS', 'PCAR', 'PKG', 'PANW', 'PARA', 'PH', 'PAYX', 'PAYC', 'PYPL', 'PNR', 'PEP', 'PFE', 'PCG', 'PM', 'PSX', 'PNW', 'PXD', 'PNC', 'POOL', 'PPG', 'PPL', 'PFG', 'PG', 'PGR', 'PLD', 'PRU', 'PEG', 'PTC', 'PSA', 'PHM', 'QRVO', 'PWR', 'QCOM', 'DGX', 'RL', 'RJF', 'RTX', 'O', 'REG', 'REGN', 'RF', 'RSG', 'RMD', 'RVTY', 'RHI', 'ROK', 'ROL', 'ROP', 'ROST', 'RCL', 'SPGI', 'CRM', 'SBAC', 'SLB', 'STX', 'SEE', 'SRE', 'NOW', 'SHW', 'SPG', 'SWKS', 'SJM', 'SNA', 'SEDG', 'SO', 'LUV', 'SWK', 'SBUX', 'STT', 'STLD', 'STE', 'SYK', 'SYF', 'SNPS', 'SYY', 'TMUS', 'TROW', 'TTWO', 'TPR', 'TRGP', 'TGT', 'TEL', 'TDY', 'TFX', 'TER', 'TSLA', 'TXN', 'TXT', 'TMO', 'TJX', 'TSCO', 'TT', 'TDG', 'TRV', 'TRMB', 'TFC', 'TYL', 'TSN', 'USB', 'UDR', 'ULTA', 'UNP', 'UAL', 'UPS', 'URI', 'UNH', 'UHS', 'VLO', 'VTR', 'VRSN', 'VRSK', 'VZ', 'VRTX', 'VFC', 'VTRS', 'VICI', 'V', 'VMC', 'WAB', 'WBA', 'WMT', 'WBD', 'WM', 'WAT', 'WEC', 'WFC', 'WELL', 'WST', 'WDC', 'WRK', 'WY', 'WHR', 'WMB', 'WTW', 'GWW', 'WYNN', 'XEL', 'XYL', 'YUM', 'ZBRA', 'ZBH', 'ZION', 'ZTS']\n"
          ]
        }
      ],
      "source": [
        "#Turn pandas dataframe to the list\n",
        "tickers = tickers_df['Symbol'].values.tolist()\n",
        "print(tickers)"
      ]
    },
    {
      "attachments": {},
      "cell_type": "markdown",
      "metadata": {
        "id": "A_knpKMqKRzk"
      },
      "source": [
        "## Download the financial data"
      ]
    },
    {
      "cell_type": "code",
      "execution_count": null,
      "metadata": {
        "colab": {
          "base_uri": "https://localhost:8080/",
          "height": 235
        },
        "id": "hGrNSGXc3YmK",
        "outputId": "df6186bf-e603-4771-c181-a257b7b1d722"
      },
      "outputs": [],
      "source": [
        "#Download the financial data from Alpha vantage\n",
        "# tickers_test = ['AAPL','MMM','ABT', 'ABBV', 'ACN', 'ATVI', 'ADM', 'ADBE', 'ADP', 'AAP', 'AES', 'AFL']\n",
        "\n",
        "stock_df = pd.DataFrame(columns=['Ticker','Date','Open', 'High', 'Low', 'Close', 'Volume'])\n",
        "for ticker in tickers:\n",
        "    try: stock_df = pd.concat([stock_df, getDailyStockdata(ticker,outputsize='full')], ignore_index = True)\n",
        "    except: continue\n",
        "stock_df.tail()"
      ]
    },
    {
      "cell_type": "code",
      "execution_count": 9,
      "metadata": {},
      "outputs": [
        {
          "ename": "ValueError",
          "evalue": "All arrays must be of the same length",
          "output_type": "error",
          "traceback": [
            "\u001b[1;31m---------------------------------------------------------------------------\u001b[0m",
            "\u001b[1;31mValueError\u001b[0m                                Traceback (most recent call last)",
            "Cell \u001b[1;32mIn[9], line 23\u001b[0m\n\u001b[0;32m     20\u001b[0m             StockOverview_dict[key]\u001b[39m.\u001b[39mappend(value)\n\u001b[0;32m     22\u001b[0m \u001b[39m#Convert the dict to pandas dataframe\u001b[39;00m\n\u001b[1;32m---> 23\u001b[0m StockOverview_df \u001b[39m=\u001b[39m pd\u001b[39m.\u001b[39;49mDataFrame\u001b[39m.\u001b[39;49mfrom_dict(StockOverview_dict)\n\u001b[0;32m     24\u001b[0m StockOverview_df\u001b[39m.\u001b[39mtail()\n",
            "File \u001b[1;32mc:\\Python311\\Lib\\site-packages\\pandas\\core\\frame.py:1760\u001b[0m, in \u001b[0;36mDataFrame.from_dict\u001b[1;34m(cls, data, orient, dtype, columns)\u001b[0m\n\u001b[0;32m   1754\u001b[0m     \u001b[39mraise\u001b[39;00m \u001b[39mValueError\u001b[39;00m(\n\u001b[0;32m   1755\u001b[0m         \u001b[39mf\u001b[39m\u001b[39m\"\u001b[39m\u001b[39mExpected \u001b[39m\u001b[39m'\u001b[39m\u001b[39mindex\u001b[39m\u001b[39m'\u001b[39m\u001b[39m, \u001b[39m\u001b[39m'\u001b[39m\u001b[39mcolumns\u001b[39m\u001b[39m'\u001b[39m\u001b[39m or \u001b[39m\u001b[39m'\u001b[39m\u001b[39mtight\u001b[39m\u001b[39m'\u001b[39m\u001b[39m for orient parameter. \u001b[39m\u001b[39m\"\u001b[39m\n\u001b[0;32m   1756\u001b[0m         \u001b[39mf\u001b[39m\u001b[39m\"\u001b[39m\u001b[39mGot \u001b[39m\u001b[39m'\u001b[39m\u001b[39m{\u001b[39;00morient\u001b[39m}\u001b[39;00m\u001b[39m'\u001b[39m\u001b[39m instead\u001b[39m\u001b[39m\"\u001b[39m\n\u001b[0;32m   1757\u001b[0m     )\n\u001b[0;32m   1759\u001b[0m \u001b[39mif\u001b[39;00m orient \u001b[39m!=\u001b[39m \u001b[39m\"\u001b[39m\u001b[39mtight\u001b[39m\u001b[39m\"\u001b[39m:\n\u001b[1;32m-> 1760\u001b[0m     \u001b[39mreturn\u001b[39;00m \u001b[39mcls\u001b[39;49m(data, index\u001b[39m=\u001b[39;49mindex, columns\u001b[39m=\u001b[39;49mcolumns, dtype\u001b[39m=\u001b[39;49mdtype)\n\u001b[0;32m   1761\u001b[0m \u001b[39melse\u001b[39;00m:\n\u001b[0;32m   1762\u001b[0m     realdata \u001b[39m=\u001b[39m data[\u001b[39m\"\u001b[39m\u001b[39mdata\u001b[39m\u001b[39m\"\u001b[39m]\n",
            "File \u001b[1;32mc:\\Python311\\Lib\\site-packages\\pandas\\core\\frame.py:709\u001b[0m, in \u001b[0;36mDataFrame.__init__\u001b[1;34m(self, data, index, columns, dtype, copy)\u001b[0m\n\u001b[0;32m    703\u001b[0m     mgr \u001b[39m=\u001b[39m \u001b[39mself\u001b[39m\u001b[39m.\u001b[39m_init_mgr(\n\u001b[0;32m    704\u001b[0m         data, axes\u001b[39m=\u001b[39m{\u001b[39m\"\u001b[39m\u001b[39mindex\u001b[39m\u001b[39m\"\u001b[39m: index, \u001b[39m\"\u001b[39m\u001b[39mcolumns\u001b[39m\u001b[39m\"\u001b[39m: columns}, dtype\u001b[39m=\u001b[39mdtype, copy\u001b[39m=\u001b[39mcopy\n\u001b[0;32m    705\u001b[0m     )\n\u001b[0;32m    707\u001b[0m \u001b[39melif\u001b[39;00m \u001b[39misinstance\u001b[39m(data, \u001b[39mdict\u001b[39m):\n\u001b[0;32m    708\u001b[0m     \u001b[39m# GH#38939 de facto copy defaults to False only in non-dict cases\u001b[39;00m\n\u001b[1;32m--> 709\u001b[0m     mgr \u001b[39m=\u001b[39m dict_to_mgr(data, index, columns, dtype\u001b[39m=\u001b[39;49mdtype, copy\u001b[39m=\u001b[39;49mcopy, typ\u001b[39m=\u001b[39;49mmanager)\n\u001b[0;32m    710\u001b[0m \u001b[39melif\u001b[39;00m \u001b[39misinstance\u001b[39m(data, ma\u001b[39m.\u001b[39mMaskedArray):\n\u001b[0;32m    711\u001b[0m     \u001b[39mfrom\u001b[39;00m \u001b[39mnumpy\u001b[39;00m\u001b[39m.\u001b[39;00m\u001b[39mma\u001b[39;00m \u001b[39mimport\u001b[39;00m mrecords\n",
            "File \u001b[1;32mc:\\Python311\\Lib\\site-packages\\pandas\\core\\internals\\construction.py:481\u001b[0m, in \u001b[0;36mdict_to_mgr\u001b[1;34m(data, index, columns, dtype, typ, copy)\u001b[0m\n\u001b[0;32m    477\u001b[0m     \u001b[39melse\u001b[39;00m:\n\u001b[0;32m    478\u001b[0m         \u001b[39m# dtype check to exclude e.g. range objects, scalars\u001b[39;00m\n\u001b[0;32m    479\u001b[0m         arrays \u001b[39m=\u001b[39m [x\u001b[39m.\u001b[39mcopy() \u001b[39mif\u001b[39;00m \u001b[39mhasattr\u001b[39m(x, \u001b[39m\"\u001b[39m\u001b[39mdtype\u001b[39m\u001b[39m\"\u001b[39m) \u001b[39melse\u001b[39;00m x \u001b[39mfor\u001b[39;00m x \u001b[39min\u001b[39;00m arrays]\n\u001b[1;32m--> 481\u001b[0m \u001b[39mreturn\u001b[39;00m arrays_to_mgr(arrays, columns, index, dtype\u001b[39m=\u001b[39;49mdtype, typ\u001b[39m=\u001b[39;49mtyp, consolidate\u001b[39m=\u001b[39;49mcopy)\n",
            "File \u001b[1;32mc:\\Python311\\Lib\\site-packages\\pandas\\core\\internals\\construction.py:115\u001b[0m, in \u001b[0;36marrays_to_mgr\u001b[1;34m(arrays, columns, index, dtype, verify_integrity, typ, consolidate)\u001b[0m\n\u001b[0;32m    112\u001b[0m \u001b[39mif\u001b[39;00m verify_integrity:\n\u001b[0;32m    113\u001b[0m     \u001b[39m# figure out the index, if necessary\u001b[39;00m\n\u001b[0;32m    114\u001b[0m     \u001b[39mif\u001b[39;00m index \u001b[39mis\u001b[39;00m \u001b[39mNone\u001b[39;00m:\n\u001b[1;32m--> 115\u001b[0m         index \u001b[39m=\u001b[39m _extract_index(arrays)\n\u001b[0;32m    116\u001b[0m     \u001b[39melse\u001b[39;00m:\n\u001b[0;32m    117\u001b[0m         index \u001b[39m=\u001b[39m ensure_index(index)\n",
            "File \u001b[1;32mc:\\Python311\\Lib\\site-packages\\pandas\\core\\internals\\construction.py:655\u001b[0m, in \u001b[0;36m_extract_index\u001b[1;34m(data)\u001b[0m\n\u001b[0;32m    653\u001b[0m lengths \u001b[39m=\u001b[39m \u001b[39mlist\u001b[39m(\u001b[39mset\u001b[39m(raw_lengths))\n\u001b[0;32m    654\u001b[0m \u001b[39mif\u001b[39;00m \u001b[39mlen\u001b[39m(lengths) \u001b[39m>\u001b[39m \u001b[39m1\u001b[39m:\n\u001b[1;32m--> 655\u001b[0m     \u001b[39mraise\u001b[39;00m \u001b[39mValueError\u001b[39;00m(\u001b[39m\"\u001b[39m\u001b[39mAll arrays must be of the same length\u001b[39m\u001b[39m\"\u001b[39m)\n\u001b[0;32m    657\u001b[0m \u001b[39mif\u001b[39;00m have_dicts:\n\u001b[0;32m    658\u001b[0m     \u001b[39mraise\u001b[39;00m \u001b[39mValueError\u001b[39;00m(\n\u001b[0;32m    659\u001b[0m         \u001b[39m\"\u001b[39m\u001b[39mMixing dicts with non-Series may lead to ambiguous ordering.\u001b[39m\u001b[39m\"\u001b[39m\n\u001b[0;32m    660\u001b[0m     )\n",
            "\u001b[1;31mValueError\u001b[0m: All arrays must be of the same length"
          ]
        }
      ],
      "source": [
        "#Download the company overview from Alpha vantage\n",
        "\n",
        "#Define the columns\n",
        "temp_json = getCompanyOverview('IBM')\n",
        "columns = [key for key in temp_json.keys()]\n",
        "\n",
        "#Create a new dict to store the stock overview data\n",
        "StockOverview_dict = {}\n",
        "for column in columns:\n",
        "    StockOverview_dict[column] = []\n",
        "\n",
        "#Append the value from api result\n",
        "for ticker in tickers:\n",
        "    try: r = getCompanyOverview(ticker)\n",
        "    except:continue\n",
        "    for key, value in r.items():\n",
        "        try: StockOverview_dict[key].append(value)\n",
        "        except:\n",
        "            StockOverview_dict[key] = []\n",
        "            StockOverview_dict[key].append(value)\n",
        "\n",
        "#Convert the dict to pandas dataframe\n",
        "StockOverview_df = pd.DataFrame.from_dict(StockOverview_dict)\n",
        "StockOverview_df.tail()"
      ]
    },
    {
      "cell_type": "code",
      "execution_count": 24,
      "metadata": {},
      "outputs": [
        {
          "data": {
            "text/html": [
              "<div>\n",
              "<style scoped>\n",
              "    .dataframe tbody tr th:only-of-type {\n",
              "        vertical-align: middle;\n",
              "    }\n",
              "\n",
              "    .dataframe tbody tr th {\n",
              "        vertical-align: top;\n",
              "    }\n",
              "\n",
              "    .dataframe thead th {\n",
              "        text-align: right;\n",
              "    }\n",
              "</style>\n",
              "<table border=\"1\" class=\"dataframe\">\n",
              "  <thead>\n",
              "    <tr style=\"text-align: right;\">\n",
              "      <th></th>\n",
              "      <th>Symbol</th>\n",
              "      <th>AssetType</th>\n",
              "      <th>Name</th>\n",
              "      <th>Description</th>\n",
              "      <th>CIK</th>\n",
              "      <th>Exchange</th>\n",
              "      <th>Currency</th>\n",
              "      <th>Country</th>\n",
              "      <th>Sector</th>\n",
              "      <th>Industry</th>\n",
              "      <th>...</th>\n",
              "      <th>EVToRevenue</th>\n",
              "      <th>EVToEBITDA</th>\n",
              "      <th>Beta</th>\n",
              "      <th>52WeekHigh</th>\n",
              "      <th>52WeekLow</th>\n",
              "      <th>50DayMovingAverage</th>\n",
              "      <th>200DayMovingAverage</th>\n",
              "      <th>SharesOutstanding</th>\n",
              "      <th>DividendDate</th>\n",
              "      <th>ExDividendDate</th>\n",
              "    </tr>\n",
              "  </thead>\n",
              "  <tbody>\n",
              "    <tr>\n",
              "      <th>93</th>\n",
              "      <td>CBOE</td>\n",
              "      <td>Common Stock</td>\n",
              "      <td>Cboe Global Markets Inc</td>\n",
              "      <td>Cboe Global Markets is an American company tha...</td>\n",
              "      <td>1374310</td>\n",
              "      <td>BATS</td>\n",
              "      <td>USD</td>\n",
              "      <td>USA</td>\n",
              "      <td>FINANCE</td>\n",
              "      <td>SECURITY &amp; COMMODITY BROKERS, DEALERS, EXCHANG...</td>\n",
              "      <td>...</td>\n",
              "      <td>3.876</td>\n",
              "      <td>23.66</td>\n",
              "      <td>0.521</td>\n",
              "      <td>147.37</td>\n",
              "      <td>112.85</td>\n",
              "      <td>137.43</td>\n",
              "      <td>130.23</td>\n",
              "      <td>105574000</td>\n",
              "      <td>2023-06-15</td>\n",
              "      <td>2023-05-30</td>\n",
              "    </tr>\n",
              "    <tr>\n",
              "      <th>94</th>\n",
              "      <td>CBRE</td>\n",
              "      <td>Common Stock</td>\n",
              "      <td>CBRE Group Inc Class A</td>\n",
              "      <td>CBRE Group, Inc. is an American commercial rea...</td>\n",
              "      <td>1138118</td>\n",
              "      <td>NYSE</td>\n",
              "      <td>USD</td>\n",
              "      <td>USA</td>\n",
              "      <td>REAL ESTATE &amp; CONSTRUCTION</td>\n",
              "      <td>REAL ESTATE</td>\n",
              "      <td>...</td>\n",
              "      <td>0.868</td>\n",
              "      <td>8.47</td>\n",
              "      <td>1.361</td>\n",
              "      <td>89.58</td>\n",
              "      <td>66.31</td>\n",
              "      <td>80.91</td>\n",
              "      <td>78.09</td>\n",
              "      <td>310832000</td>\n",
              "      <td>None</td>\n",
              "      <td>2023-01-20</td>\n",
              "    </tr>\n",
              "    <tr>\n",
              "      <th>95</th>\n",
              "      <td>CDW</td>\n",
              "      <td>Common Stock</td>\n",
              "      <td>CDW Corp</td>\n",
              "      <td>CDW Corporation, headquartered in Lincolnshire...</td>\n",
              "      <td>1402057</td>\n",
              "      <td>NASDAQ</td>\n",
              "      <td>USD</td>\n",
              "      <td>USA</td>\n",
              "      <td>TRADE &amp; SERVICES</td>\n",
              "      <td>RETAIL-CATALOG &amp; MAIL-ORDER HOUSES</td>\n",
              "      <td>...</td>\n",
              "      <td>1.358</td>\n",
              "      <td>17.2</td>\n",
              "      <td>1.098</td>\n",
              "      <td>213.63</td>\n",
              "      <td>146.51</td>\n",
              "      <td>181.47</td>\n",
              "      <td>184.29</td>\n",
              "      <td>134787000</td>\n",
              "      <td>2023-06-13</td>\n",
              "      <td>2023-08-24</td>\n",
              "    </tr>\n",
              "    <tr>\n",
              "      <th>96</th>\n",
              "      <td>CE</td>\n",
              "      <td>Common Stock</td>\n",
              "      <td>Celanese Corporation</td>\n",
              "      <td>Celanese Corporation is a Fortune 500 global t...</td>\n",
              "      <td>1306830</td>\n",
              "      <td>NYSE</td>\n",
              "      <td>USD</td>\n",
              "      <td>USA</td>\n",
              "      <td>LIFE SCIENCES</td>\n",
              "      <td>PLASTIC MATERIAL, SYNTH RESIN/RUBBER, CELLULOS...</td>\n",
              "      <td>...</td>\n",
              "      <td>1.446</td>\n",
              "      <td>5.1</td>\n",
              "      <td>1.31</td>\n",
              "      <td>128.28</td>\n",
              "      <td>84.53</td>\n",
              "      <td>116.55</td>\n",
              "      <td>110.13</td>\n",
              "      <td>108788000</td>\n",
              "      <td>2023-08-14</td>\n",
              "      <td>2023-07-28</td>\n",
              "    </tr>\n",
              "    <tr>\n",
              "      <th>97</th>\n",
              "      <td>CNC</td>\n",
              "      <td>Common Stock</td>\n",
              "      <td>Centene Corp</td>\n",
              "      <td>Centene Corporation is a large publicly traded...</td>\n",
              "      <td>1071739</td>\n",
              "      <td>NYSE</td>\n",
              "      <td>USD</td>\n",
              "      <td>USA</td>\n",
              "      <td>FINANCE</td>\n",
              "      <td>HOSPITAL &amp; MEDICAL SERVICE PLANS</td>\n",
              "      <td>...</td>\n",
              "      <td>0.363</td>\n",
              "      <td>10.65</td>\n",
              "      <td>0.57</td>\n",
              "      <td>98.53</td>\n",
              "      <td>61.34</td>\n",
              "      <td>66.75</td>\n",
              "      <td>72.33</td>\n",
              "      <td>548769000</td>\n",
              "      <td>None</td>\n",
              "      <td>None</td>\n",
              "    </tr>\n",
              "  </tbody>\n",
              "</table>\n",
              "<p>5 rows × 46 columns</p>\n",
              "</div>"
            ],
            "text/plain": [
              "   Symbol     AssetType                     Name  \\\n",
              "93   CBOE  Common Stock  Cboe Global Markets Inc   \n",
              "94   CBRE  Common Stock   CBRE Group Inc Class A   \n",
              "95    CDW  Common Stock                 CDW Corp   \n",
              "96     CE  Common Stock     Celanese Corporation   \n",
              "97    CNC  Common Stock             Centene Corp   \n",
              "\n",
              "                                          Description      CIK Exchange  \\\n",
              "93  Cboe Global Markets is an American company tha...  1374310     BATS   \n",
              "94  CBRE Group, Inc. is an American commercial rea...  1138118     NYSE   \n",
              "95  CDW Corporation, headquartered in Lincolnshire...  1402057   NASDAQ   \n",
              "96  Celanese Corporation is a Fortune 500 global t...  1306830     NYSE   \n",
              "97  Centene Corporation is a large publicly traded...  1071739     NYSE   \n",
              "\n",
              "   Currency Country                      Sector  \\\n",
              "93      USD     USA                     FINANCE   \n",
              "94      USD     USA  REAL ESTATE & CONSTRUCTION   \n",
              "95      USD     USA            TRADE & SERVICES   \n",
              "96      USD     USA               LIFE SCIENCES   \n",
              "97      USD     USA                     FINANCE   \n",
              "\n",
              "                                             Industry  ... EVToRevenue  \\\n",
              "93  SECURITY & COMMODITY BROKERS, DEALERS, EXCHANG...  ...       3.876   \n",
              "94                                        REAL ESTATE  ...       0.868   \n",
              "95                 RETAIL-CATALOG & MAIL-ORDER HOUSES  ...       1.358   \n",
              "96  PLASTIC MATERIAL, SYNTH RESIN/RUBBER, CELLULOS...  ...       1.446   \n",
              "97                   HOSPITAL & MEDICAL SERVICE PLANS  ...       0.363   \n",
              "\n",
              "   EVToEBITDA   Beta 52WeekHigh 52WeekLow 50DayMovingAverage  \\\n",
              "93      23.66  0.521     147.37    112.85             137.43   \n",
              "94       8.47  1.361      89.58     66.31              80.91   \n",
              "95       17.2  1.098     213.63    146.51             181.47   \n",
              "96        5.1   1.31     128.28     84.53             116.55   \n",
              "97      10.65   0.57      98.53     61.34              66.75   \n",
              "\n",
              "   200DayMovingAverage SharesOutstanding DividendDate ExDividendDate  \n",
              "93              130.23         105574000   2023-06-15     2023-05-30  \n",
              "94               78.09         310832000         None     2023-01-20  \n",
              "95              184.29         134787000   2023-06-13     2023-08-24  \n",
              "96              110.13         108788000   2023-08-14     2023-07-28  \n",
              "97               72.33         548769000         None           None  \n",
              "\n",
              "[5 rows x 46 columns]"
            ]
          },
          "execution_count": 24,
          "metadata": {},
          "output_type": "execute_result"
        }
      ],
      "source": [
        "StockOverview_df = pd.DataFrame.from_dict(StockOverview_dict)\n",
        "StockOverview_df.tail()"
      ]
    },
    {
      "cell_type": "code",
      "execution_count": 26,
      "metadata": {},
      "outputs": [],
      "source": [
        "#Connect SQLite\n",
        "import sqlite3\n",
        "\n",
        "conn = sqlite3.connect('StockData.db')\n",
        "stock_cursor = conn.cursor()"
      ]
    },
    {
      "cell_type": "code",
      "execution_count": null,
      "metadata": {},
      "outputs": [],
      "source": [
        "#Store the data into SQLite3 database\n",
        "StockPrice_tableName = 'StockPrice'\n",
        "StockOverview_tableName = 'StockOverview'\n",
        "\n",
        "#Create a table called, StockPrice, in SQLite3\n",
        "stock_df.to_sql(StockPrice_tableName,conn,if_exists='replace',\n",
        "                index=True,index_label='Record')\n",
        "StockOverview_df.to_sql(StockOverview_tableName,conn,if_exists='replace',\n",
        "\n",
        "                        index=True,index_label='Record')\n",
        "conn.commit()\n"
      ]
    },
    {
      "cell_type": "code",
      "execution_count": 29,
      "metadata": {},
      "outputs": [],
      "source": [
        "#Store teh stockOverview to the SQLite3\n",
        "\n",
        "StockOverview_tableName = 'StockOverview'\n",
        "StockOverview_df.to_sql(StockOverview_tableName,conn,if_exists='replace',\n",
        "                        index=False,index_label='Record')\n",
        "conn.commit()"
      ]
    }
  ],
  "metadata": {
    "colab": {
      "authorship_tag": "ABX9TyNPTDvdNJrMG8qGV/WXMng9",
      "provenance": [],
      "toc_visible": true
    },
    "kernelspec": {
      "display_name": "Python 3",
      "name": "python3"
    },
    "language_info": {
      "codemirror_mode": {
        "name": "ipython",
        "version": 3
      },
      "file_extension": ".py",
      "mimetype": "text/x-python",
      "name": "python",
      "nbconvert_exporter": "python",
      "pygments_lexer": "ipython3",
      "version": "3.11.0"
    }
  },
  "nbformat": 4,
  "nbformat_minor": 0
}
